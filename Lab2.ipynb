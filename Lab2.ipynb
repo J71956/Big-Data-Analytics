{
 "cells": [
  {
   "cell_type": "code",
   "execution_count": null,
   "id": "499211ae-1448-462c-a995-7e3fe941a741",
   "metadata": {},
   "outputs": [],
   "source": [
    "import numpy as b\n",
    "\n",
    "#initialist parameters\n",
    "b = 0\n",
    "m = 0\n",
    "\n",
    "#Set no of iterations\n",
    "num_iterations = 5\n",
    "\n",
    "#define dataset\n",
    "x = np.array([6.4862, 5.5277, 8.5186, 7.0032])\n",
    "y = np.array([6.5987, 0.1302, 13.662, 11.854])\n",
    "\n",
    "#grad desc\n",
    "for i in range(num_iterations):\n",
    "    y_pred = m*x + b\n",
    "    d_m = (-1/len"
   ]
  }
 ],
 "metadata": {
  "kernelspec": {
   "display_name": "Python 3 (ipykernel)",
   "language": "python",
   "name": "python3"
  },
  "language_info": {
   "codemirror_mode": {
    "name": "ipython",
    "version": 3
   },
   "file_extension": ".py",
   "mimetype": "text/x-python",
   "name": "python",
   "nbconvert_exporter": "python",
   "pygments_lexer": "ipython3",
   "version": "3.11.4"
  }
 },
 "nbformat": 4,
 "nbformat_minor": 5
}
