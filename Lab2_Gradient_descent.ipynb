{
 "cells": [
  {
   "cell_type": "markdown",
   "metadata": {
    "collapsed": false,
    "jupyter": {
     "outputs_hidden": false
    }
   },
   "source": [
    "Now let's try the example we mentioned during the lecture. \n",
    "\n",
    "The training data contain some example measurements of the profit gained by opening an outlet in the cities with the population ranging between 30,000 and 100,000. The y-values are the profit measured in USD, and the x-values are the populations of the city. Each city population and profit tuple constitutes one training example in training dataset.\n",
    "\n",
    "x = [6.4862, 5.5277, 8.5186, 7.0032]\n",
    "\n",
    "y = [6.5987, 9.1302, 13.662, 11.854]"
   ]
  },
  {
   "cell_type": "code",
   "execution_count": 5,
   "metadata": {
    "ExecuteTime": {
     "end_time": "2024-09-01T15:16:50.468683Z",
     "start_time": "2024-09-01T15:16:50.458804Z"
    },
    "collapsed": false,
    "jupyter": {
     "outputs_hidden": false
    }
   },
   "outputs": [
    {
     "name": "stdout",
     "output_type": "stream",
     "text": [
      "Iteration: 0, m: 0.7316663512, b: 0.10311225, J: 15.684545838430298\n",
      "Iteration: 1, m: 1.100941716819294, b: 0.15482601463315543, J: 5.224366206500796\n",
      "Iteration: 2, m: 1.287339230914015, b: 0.18060200240727128, J: 2.560504060171378\n",
      "Iteration: 3, m: 1.3814488243917513, b: 0.19328876523150096, J: 1.8820826037771419\n",
      "Iteration: 4, m: 1.4289860134191454, b: 0.1993702265946761, J: 1.7092812466388776\n"
     ]
    }
   ],
   "source": [
    "import numpy as np\n",
    "# initialize parameters\n",
    "b = 0\n",
    "m = 0\n",
    "\n",
    "# set learning rate\n",
    "learning_rate = 0.01\n",
    "\n",
    "# set number of iterations\n",
    "num_iterations = 5\n",
    "\n",
    "# define dataset\n",
    "x = np.array([6.4862, 5.5277, 8.5186, 7.0032])\n",
    "y = np.array([6.5987, 9.1302, 13.662, 11.854])\n",
    "\n",
    "# perform gradient descent\n",
    "for i in range(num_iterations):\n",
    "    y_pred = m*x + b\n",
    "    D_m = (-1/len(x)) * sum(x * (y - y_pred))\n",
    "    D_b = (-1/len(x)) * sum(y - y_pred)\n",
    "    m = m - learning_rate * D_m\n",
    "    b = b - learning_rate * D_b\n",
    "    J = 0.5/len(x)*sum(np.power(m*x + b - y, 2))\n",
    "    print(\"Iteration: {}, m: {}, b: {}, J: {}\".format(i, m, b, J))"
   ]
  },
  {
   "cell_type": "code",
   "execution_count": 1,
   "metadata": {
    "ExecuteTime": {
     "end_time": "2024-09-01T15:16:50.469573Z",
     "start_time": "2024-09-01T15:16:50.462860Z"
    },
    "collapsed": false,
    "jupyter": {
     "outputs_hidden": false
    }
   },
   "outputs": [],
   "source": [
    "%matplotlib inline\n",
    "# sets the backend of matplotlib to the 'inline' backend"
   ]
  },
  {
   "cell_type": "code",
   "execution_count": 7,
   "metadata": {
    "ExecuteTime": {
     "end_time": "2024-09-01T15:16:50.538235Z",
     "start_time": "2024-09-01T15:16:50.471420Z"
    },
    "collapsed": false,
    "jupyter": {
     "outputs_hidden": false
    }
   },
   "outputs": [
    {
     "name": "stdout",
     "output_type": "stream",
     "text": [
      "mean squared error:  0.1137413769325341\n",
      "R2 score:  0.8565656779573378\n"
     ]
    },
    {
     "data": {
      "image/png": "[encoded data removed]",
      "text/plain": [
       "<Figure size 640x480 with 1 Axes>"
      ]
     },
     "metadata": {},
     "output_type": "display_data"
    }
   ],
   "source": [
    "import numpy as np\n",
    "import matplotlib.pyplot as plt\n",
    "from sklearn.metrics import mean_squared_error, r2_score\n",
    "\n",
    "class LinearRegressionUsingGD:\n",
    "    \"\"\"Linear Regression Using Gradient Descent.\n",
    "    Parameters\n",
    "    ----------\n",
    "    eta : float\n",
    "        Learning rate\n",
    "    n_iterations : int\n",
    "        No of passes over the training set\n",
    "    Attributes\n",
    "    ----------\n",
    "    w_ : weights/ after fitting the model\n",
    "    bias_ : bias / after fitting the model\n",
    "    cost_ : total error of the model after each iteration\n",
    "    \"\"\"\n",
    "\n",
    "    def __init__(self, eta=0.05, n_iterations=10000):\n",
    "        self.eta = eta\n",
    "        self.n_iterations = n_iterations\n",
    "\n",
    "    def fit(self, x, y):\n",
    "        \"\"\"Fit the training data\n",
    "        Parameters\n",
    "        ----------\n",
    "        x : array-like, shape = [n_samples, n_features]\n",
    "            Training samples\n",
    "        y : array-like, shape = [n_samples, n_target_values]\n",
    "            Target values\n",
    "        Returns\n",
    "        -------\n",
    "        self : object\n",
    "        \"\"\"\n",
    "\n",
    "        self.cost_ = []\n",
    "        self.w_ = np.zeros((x.shape[1], 1))\n",
    "        self.bias_ = np.zeros((1, 1))\n",
    "        m = x.shape[0]\n",
    "\n",
    "        for _ in range(self.n_iterations):\n",
    "            y_pred = np.dot(x, self.w_) + self.bias_\n",
    "            residuals = y_pred - y\n",
    "            gradient_vector_weight = np.dot(x.T, residuals)\n",
    "            gradient_vector_bias = np.sum(residuals) \n",
    "            self.w_ -= (self.eta / m) * gradient_vector_weight\n",
    "            self.bias_ -= (self.eta / m) * gradient_vector_bias\n",
    "            cost = np.sum((residuals ** 2)) / (2 * m)\n",
    "            self.cost_.append(cost)\n",
    "        return self\n",
    "\n",
    "    def predict(self, x):\n",
    "        \"\"\" Predicts the value after the model has been trained.\n",
    "        Parameters\n",
    "        ----------\n",
    "        x : array-like, shape = [n_samples, n_features]\n",
    "            Test samples\n",
    "        Returns\n",
    "        -------\n",
    "        Predicted value\n",
    "        \"\"\"\n",
    "        return np.dot(x, self.w_) + self.bias_\n",
    "    \n",
    "    \n",
    "def run():\n",
    "    # generate random data-set\n",
    "    np.random.seed(0)\n",
    "    x = np.random.rand(100, 1)\n",
    "    y = 2 + 3 * x + np.random.rand(100, 1)\n",
    "    \n",
    "    # Model Initialization\n",
    "    model = LinearRegressionUsingGD(0.02,500)\n",
    "    # Fit the data (train the model)\n",
    "    model.fit(x, y)\n",
    "    #model = LinearRegression().fit(x, y)\n",
    "    \n",
    "    # Predict\n",
    "    y_pred = model.predict(x)\n",
    "    #print('predicted response:', y_pred, sep='\\n')\n",
    "    \n",
    "    \n",
    "    # model evaluation\n",
    "    rmse = mean_squared_error(y, y_pred)\n",
    "    r2 = r2_score(y, y_pred)\n",
    "    print('mean squared error: ', rmse)\n",
    "    print('R2 score: ', r2)\n",
    "    \n",
    "    # plot\n",
    "    plt.scatter(x,y,s=10)\n",
    "    plt.xlabel('x')\n",
    "    plt.ylabel('y')\n",
    "    plt.plot(x, y_pred, color='r')\n",
    "    plt.show()\n",
    "    \n",
    "    \n",
    "if __name__ == '__main__':\n",
    "    model = LinearRegressionUsingGD()\n",
    "    run()"
   ]
  },
  {
   "cell_type": "markdown",
   "metadata": {
    "id": "PfyXDRXRp2uE"
   },
   "source": [
    "\n",
    "# Linear Regression based on sklearn\n",
    "The example below uses only the first feature of the `diabetes` dataset,\n",
    "in order to illustrate the data points within the two-dimensional plot.\n",
    "The straight line can be seen in the plot, showing how linear regression\n",
    "attempts to draw a straight line that will best minimize the\n",
    "residual sum of squares between the observed responses in the dataset,\n",
    "and the responses predicted by the linear approximation.\n",
    "\n",
    "The coefficients, residual sum of squares and the coefficient of\n",
    "determination are also calculated.\n"
   ]
  },
  {
   "cell_type": "code",
   "execution_count": 8,
   "metadata": {
    "ExecuteTime": {
     "end_time": "2024-09-01T15:16:50.597220Z",
     "start_time": "2024-09-01T15:16:50.538769Z"
    },
    "colab": {
     "base_uri": "https://localhost:8080/",
     "height": 337
    },
    "id": "z2igo6AGp2uH",
    "outputId": "521fad10-4cd4-4880-a002-cf4caaac1a8f"
   },
   "outputs": [
    {
     "name": "stdout",
     "output_type": "stream",
     "text": [
      "Automatically created module for IPython interactive environment\n",
      "Coefficients: \n",
      " [938.23786125]\n",
      "Mean squared error: 2548.07\n",
      "Coefficient of determination: 0.47\n"
     ]
    },
    {
     "data": {
      "image/png": "[encoded data removed]",
      "text/plain": [
       "<Figure size 640x480 with 1 Axes>"
      ]
     },
     "metadata": {},
     "output_type": "display_data"
    }
   ],
   "source": [
    "print(__doc__)\n",
    "# Code source: Jaques Grobler\n",
    "# License: BSD 3 clause\n",
    "\n",
    "import matplotlib.pyplot as plt\n",
    "import numpy as np\n",
    "from sklearn import datasets, linear_model\n",
    "from sklearn.metrics import mean_squared_error, r2_score\n",
    "\n",
    "# Load the diabetes dataset\n",
    "diabetes_X, diabetes_y = datasets.load_diabetes(return_X_y=True)\n",
    "\n",
    "# Use only one feature\n",
    "diabetes_X = diabetes_X[:, np.newaxis, 2]\n",
    "# Split the data into training/test sets\n",
    "diabetes_X_train = diabetes_X[:-20]\n",
    "diabetes_X_test = diabetes_X[-20:]\n",
    "\n",
    "# Split the targets into training/test sets\n",
    "diabetes_y_train = diabetes_y[:-20]\n",
    "diabetes_y_test = diabetes_y[-20:]\n",
    "\n",
    "\n",
    "# Create linear regression object\n",
    "regr = linear_model.LinearRegression()\n",
    "\n",
    "# Train the model using the training sets\n",
    "regr.fit(diabetes_X_train, diabetes_y_train)\n",
    "\n",
    "# Make predictions using the testing set\n",
    "diabetes_y_pred = regr.predict(diabetes_X_test)\n",
    "\n",
    "# The coefficients\n",
    "print('Coefficients: \\n', regr.coef_)\n",
    "# The mean squared error\n",
    "print('Mean squared error: %.2f'\n",
    "      % mean_squared_error(diabetes_y_test, diabetes_y_pred))\n",
    "# The coefficient of determination: 1 is perfect prediction\n",
    "print('Coefficient of determination: %.2f'\n",
    "      % r2_score(diabetes_y_test, diabetes_y_pred))\n",
    "\n",
    "# Plot outputs\n",
    "plt.scatter(diabetes_X_test, diabetes_y_test,  color='black')\n",
    "plt.plot(diabetes_X_test, diabetes_y_pred, color='blue', linewidth=3)\n",
    "\n",
    "plt.xticks(())\n",
    "plt.yticks(())\n",
    "\n",
    "plt.show()"
   ]
  },
  {
   "cell_type": "code",
   "execution_count": 8,
   "metadata": {
    "ExecuteTime": {
     "end_time": "2024-09-20T04:19:43.215477Z",
     "start_time": "2024-09-20T04:19:43.211520Z"
    },
    "collapsed": false,
    "jupyter": {
     "outputs_hidden": false
    }
   },
   "outputs": [
    {
     "name": "stdout",
     "output_type": "stream",
     "text": [
      "[[0.97861834]\n",
      " [0.79915856]\n",
      " [0.46147936]\n",
      " [0.78052918]\n",
      " [0.11827443]\n",
      " [0.63992102]\n",
      " [0.14335329]\n",
      " [0.94466892]\n",
      " [0.52184832]\n",
      " [0.41466194]]\n"
     ]
    }
   ],
   "source": [
    "import numpy as np\n",
    "#np.random.seed(0)\n",
    "print(np.random.rand(10, 1))"
   ]
  },
  {
   "cell_type": "code",
   "execution_count": 6,
   "metadata": {
    "ExecuteTime": {
     "end_time": "2024-09-20T04:19:39.358536Z",
     "start_time": "2024-09-20T04:19:39.353766Z"
    },
    "collapsed": false,
    "jupyter": {
     "outputs_hidden": false
    }
   },
   "outputs": [
    {
     "name": "stdout",
     "output_type": "stream",
     "text": [
      "[[0.5488135 ]\n",
      " [0.71518937]\n",
      " [0.60276338]\n",
      " [0.54488318]\n",
      " [0.4236548 ]\n",
      " [0.64589411]\n",
      " [0.43758721]\n",
      " [0.891773  ]\n",
      " [0.96366276]\n",
      " [0.38344152]]\n"
     ]
    }
   ],
   "source": [
    "import numpy as np\n",
    "np.random.seed(0)\n",
    "print(np.random.rand(10, 1))"
   ]
  },
  {
   "cell_type": "code",
   "execution_count": null,
   "metadata": {
    "collapsed": false,
    "jupyter": {
     "outputs_hidden": false
    }
   },
   "outputs": [],
   "source": []
  }
 ],
 "metadata": {
  "colab": {
   "provenance": []
  },
  "kernelspec": {
   "display_name": "Python 3 (ipykernel)",
   "language": "python",
   "name": "python3"
  },
  "language_info": {
   "codemirror_mode": {
    "name": "ipython",
    "version": 3
   },
   "file_extension": ".py",
   "mimetype": "text/x-python",
   "name": "python",
   "nbconvert_exporter": "python",
   "pygments_lexer": "ipython3",
   "version": "3.12.7"
  }
 },
 "nbformat": 4,
 "nbformat_minor": 4
}
