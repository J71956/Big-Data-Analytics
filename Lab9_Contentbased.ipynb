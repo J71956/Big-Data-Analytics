{
 "cells": [
  {
   "cell_type": "markdown",
   "metadata": {},
   "source": [
    "# Content-based Movie Recommender"
   ]
  },
  {
   "cell_type": "code",
   "execution_count": 1,
   "metadata": {
    "ExecuteTime": {
     "end_time": "2024-09-01T16:09:12.639984Z",
     "start_time": "2024-09-01T16:09:12.089198Z"
    }
   },
   "outputs": [],
   "source": [
    "# Imports\n",
    "import pandas as pd\n",
    "from sklearn.feature_extraction.text import TfidfVectorizer\n",
    "from sklearn.metrics.pairwise import cosine_similarity"
   ]
  },
  {
   "cell_type": "markdown",
   "metadata": {},
   "source": [
    "## Load the MovieLens data\n",
    "\n",
    "You can download the file `ml-latest.zip`[here](https://grouplens.org/datasets/movielens/) and then unzip into the `data/` directory."
   ]
  },
  {
   "cell_type": "code",
   "execution_count": 2,
   "metadata": {
    "ExecuteTime": {
     "end_time": "2024-09-01T16:09:20.291764Z",
     "start_time": "2024-09-01T16:09:12.637379Z"
    }
   },
   "outputs": [],
   "source": [
    "# Read dataframes\n",
    "df_movies = pd.read_csv('data/movies.csv')\n",
    "df_links = pd.read_csv('data/links.csv')\n",
    "df_ratings = pd.read_csv('data/ratings.csv')\n",
    "df_genome_tags = pd.read_csv('data/genome-tags.csv')\n",
    "df_genome_scores = pd.read_csv('data/genome-scores.csv')\n",
    "\n",
    "# Merge scores and tags\n",
    "df_movie_tags_in_text = pd.merge(df_genome_scores, df_genome_tags, on='tagId')[['movieId', 'tag', 'relevance']]\n",
    "\n",
    "# Only keep tags with relevance higher than 0.3\n",
    "df_movie_tags = df_genome_scores[df_genome_scores.relevance > 0.3][['movieId', 'tagId']]"
   ]
  },
  {
   "cell_type": "markdown",
   "metadata": {},
   "source": [
    "### Which is movie with Id 1?"
   ]
  },
  {
   "cell_type": "code",
   "execution_count": 3,
   "metadata": {
    "ExecuteTime": {
     "end_time": "2024-09-01T16:09:20.306650Z",
     "start_time": "2024-09-01T16:09:20.293030Z"
    }
   },
   "outputs": [
    {
     "data": {
      "text/plain": "   movieId             title                                       genres\n0        1  Toy Story (1995)  Adventure|Animation|Children|Comedy|Fantasy",
      "text/html": "<div>\n<style scoped>\n    .dataframe tbody tr th:only-of-type {\n        vertical-align: middle;\n    }\n\n    .dataframe tbody tr th {\n        vertical-align: top;\n    }\n\n    .dataframe thead th {\n        text-align: right;\n    }\n</style>\n<table border=\"1\" class=\"dataframe\">\n  <thead>\n    <tr style=\"text-align: right;\">\n      <th></th>\n      <th>movieId</th>\n      <th>title</th>\n      <th>genres</th>\n    </tr>\n  </thead>\n  <tbody>\n    <tr>\n      <th>0</th>\n      <td>1</td>\n      <td>Toy Story (1995)</td>\n      <td>Adventure|Animation|Children|Comedy|Fantasy</td>\n    </tr>\n  </tbody>\n</table>\n</div>"
     },
     "execution_count": 3,
     "metadata": {},
     "output_type": "execute_result"
    }
   ],
   "source": [
    "df_movies[df_movies.movieId == 1]"
   ]
  },
  {
   "cell_type": "markdown",
   "metadata": {},
   "source": [
    "### Let's have a look at a few of the tags Toy Story "
   ]
  },
  {
   "cell_type": "code",
   "execution_count": 4,
   "metadata": {
    "scrolled": true,
    "ExecuteTime": {
     "end_time": "2024-09-01T16:09:20.307627Z",
     "start_time": "2024-09-01T16:09:20.301698Z"
    }
   },
   "outputs": [
    {
     "data": {
      "text/plain": "     movieId  tagId              tag\n150        1    844       redemption\n129        1    719        not funny\n14         1     93          awesome\n195        1   1108        whimsical\n94         1    481         gunfight\n155        1    897          secrets\n164        1    967      stereotypes\n158        1    921           simple\n154        1    886           sci fi\n85         1    452  good soundtrack",
      "text/html": "<div>\n<style scoped>\n    .dataframe tbody tr th:only-of-type {\n        vertical-align: middle;\n    }\n\n    .dataframe tbody tr th {\n        vertical-align: top;\n    }\n\n    .dataframe thead th {\n        text-align: right;\n    }\n</style>\n<table border=\"1\" class=\"dataframe\">\n  <thead>\n    <tr style=\"text-align: right;\">\n      <th></th>\n      <th>movieId</th>\n      <th>tagId</th>\n      <th>tag</th>\n    </tr>\n  </thead>\n  <tbody>\n    <tr>\n      <th>150</th>\n      <td>1</td>\n      <td>844</td>\n      <td>redemption</td>\n    </tr>\n    <tr>\n      <th>129</th>\n      <td>1</td>\n      <td>719</td>\n      <td>not funny</td>\n    </tr>\n    <tr>\n      <th>14</th>\n      <td>1</td>\n      <td>93</td>\n      <td>awesome</td>\n    </tr>\n    <tr>\n      <th>195</th>\n      <td>1</td>\n      <td>1108</td>\n      <td>whimsical</td>\n    </tr>\n    <tr>\n      <th>94</th>\n      <td>1</td>\n      <td>481</td>\n      <td>gunfight</td>\n    </tr>\n    <tr>\n      <th>155</th>\n      <td>1</td>\n      <td>897</td>\n      <td>secrets</td>\n    </tr>\n    <tr>\n      <th>164</th>\n      <td>1</td>\n      <td>967</td>\n      <td>stereotypes</td>\n    </tr>\n    <tr>\n      <th>158</th>\n      <td>1</td>\n      <td>921</td>\n      <td>simple</td>\n    </tr>\n    <tr>\n      <th>154</th>\n      <td>1</td>\n      <td>886</td>\n      <td>sci fi</td>\n    </tr>\n    <tr>\n      <th>85</th>\n      <td>1</td>\n      <td>452</td>\n      <td>good soundtrack</td>\n    </tr>\n  </tbody>\n</table>\n</div>"
     },
     "execution_count": 4,
     "metadata": {},
     "output_type": "execute_result"
    }
   ],
   "source": [
    "df_movie_tags[df_movie_tags['movieId'] == 1].merge(df_genome_tags, on='tagId').sample(10)"
   ]
  },
  {
   "cell_type": "markdown",
   "metadata": {},
   "source": [
    "### Encode features"
   ]
  },
  {
   "cell_type": "code",
   "execution_count": 5,
   "metadata": {
    "ExecuteTime": {
     "end_time": "2024-09-01T16:09:20.309993Z",
     "start_time": "2024-09-01T16:09:20.307916Z"
    }
   },
   "outputs": [
    {
     "data": {
      "text/plain": "          movieId  tagId\n10              1     11\n18              1     19\n19              1     20\n28              1     29\n29              1     30\n...           ...    ...\n18472095   288167   1096\n18472100   288167   1101\n18472107   288167   1108\n18472113   288167   1114\n18472115   288167   1116\n\n[1697802 rows x 2 columns]",
      "text/html": "<div>\n<style scoped>\n    .dataframe tbody tr th:only-of-type {\n        vertical-align: middle;\n    }\n\n    .dataframe tbody tr th {\n        vertical-align: top;\n    }\n\n    .dataframe thead th {\n        text-align: right;\n    }\n</style>\n<table border=\"1\" class=\"dataframe\">\n  <thead>\n    <tr style=\"text-align: right;\">\n      <th></th>\n      <th>movieId</th>\n      <th>tagId</th>\n    </tr>\n  </thead>\n  <tbody>\n    <tr>\n      <th>10</th>\n      <td>1</td>\n      <td>11</td>\n    </tr>\n    <tr>\n      <th>18</th>\n      <td>1</td>\n      <td>19</td>\n    </tr>\n    <tr>\n      <th>19</th>\n      <td>1</td>\n      <td>20</td>\n    </tr>\n    <tr>\n      <th>28</th>\n      <td>1</td>\n      <td>29</td>\n    </tr>\n    <tr>\n      <th>29</th>\n      <td>1</td>\n      <td>30</td>\n    </tr>\n    <tr>\n      <th>...</th>\n      <td>...</td>\n      <td>...</td>\n    </tr>\n    <tr>\n      <th>18472095</th>\n      <td>288167</td>\n      <td>1096</td>\n    </tr>\n    <tr>\n      <th>18472100</th>\n      <td>288167</td>\n      <td>1101</td>\n    </tr>\n    <tr>\n      <th>18472107</th>\n      <td>288167</td>\n      <td>1108</td>\n    </tr>\n    <tr>\n      <th>18472113</th>\n      <td>288167</td>\n      <td>1114</td>\n    </tr>\n    <tr>\n      <th>18472115</th>\n      <td>288167</td>\n      <td>1116</td>\n    </tr>\n  </tbody>\n</table>\n<p>1697802 rows × 2 columns</p>\n</div>"
     },
     "execution_count": 5,
     "metadata": {},
     "output_type": "execute_result"
    }
   ],
   "source": [
    "df_movie_tags"
   ]
  },
  {
   "cell_type": "code",
   "execution_count": 6,
   "metadata": {
    "ExecuteTime": {
     "end_time": "2024-09-01T16:09:20.313022Z",
     "start_time": "2024-09-01T16:09:20.310037Z"
    }
   },
   "outputs": [
    {
     "data": {
      "text/plain": "      tagId           tag\n0         1           007\n1         2  007 (series)\n2         3  18th century\n3         4         1920s\n4         5         1930s\n...     ...           ...\n1123   1124       writing\n1124   1125         wuxia\n1125   1126          wwii\n1126   1127        zombie\n1127   1128       zombies\n\n[1128 rows x 2 columns]",
      "text/html": "<div>\n<style scoped>\n    .dataframe tbody tr th:only-of-type {\n        vertical-align: middle;\n    }\n\n    .dataframe tbody tr th {\n        vertical-align: top;\n    }\n\n    .dataframe thead th {\n        text-align: right;\n    }\n</style>\n<table border=\"1\" class=\"dataframe\">\n  <thead>\n    <tr style=\"text-align: right;\">\n      <th></th>\n      <th>tagId</th>\n      <th>tag</th>\n    </tr>\n  </thead>\n  <tbody>\n    <tr>\n      <th>0</th>\n      <td>1</td>\n      <td>007</td>\n    </tr>\n    <tr>\n      <th>1</th>\n      <td>2</td>\n      <td>007 (series)</td>\n    </tr>\n    <tr>\n      <th>2</th>\n      <td>3</td>\n      <td>18th century</td>\n    </tr>\n    <tr>\n      <th>3</th>\n      <td>4</td>\n      <td>1920s</td>\n    </tr>\n    <tr>\n      <th>4</th>\n      <td>5</td>\n      <td>1930s</td>\n    </tr>\n    <tr>\n      <th>...</th>\n      <td>...</td>\n      <td>...</td>\n    </tr>\n    <tr>\n      <th>1123</th>\n      <td>1124</td>\n      <td>writing</td>\n    </tr>\n    <tr>\n      <th>1124</th>\n      <td>1125</td>\n      <td>wuxia</td>\n    </tr>\n    <tr>\n      <th>1125</th>\n      <td>1126</td>\n      <td>wwii</td>\n    </tr>\n    <tr>\n      <th>1126</th>\n      <td>1127</td>\n      <td>zombie</td>\n    </tr>\n    <tr>\n      <th>1127</th>\n      <td>1128</td>\n      <td>zombies</td>\n    </tr>\n  </tbody>\n</table>\n<p>1128 rows × 2 columns</p>\n</div>"
     },
     "execution_count": 6,
     "metadata": {},
     "output_type": "execute_result"
    }
   ],
   "source": [
    "df_genome_tags"
   ]
  },
  {
   "cell_type": "code",
   "execution_count": 7,
   "metadata": {
    "ExecuteTime": {
     "end_time": "2024-09-01T16:09:20.662744Z",
     "start_time": "2024-09-01T16:09:20.313697Z"
    }
   },
   "outputs": [
    {
     "data": {
      "text/plain": "         movieId tagId\n0              1    11\n1              1    19\n2              1    20\n3              1    29\n4              1    30\n...          ...   ...\n1697797   288167  1096\n1697798   288167  1101\n1697799   288167  1108\n1697800   288167  1114\n1697801   288167  1116\n\n[1697802 rows x 2 columns]",
      "text/html": "<div>\n<style scoped>\n    .dataframe tbody tr th:only-of-type {\n        vertical-align: middle;\n    }\n\n    .dataframe tbody tr th {\n        vertical-align: top;\n    }\n\n    .dataframe thead th {\n        text-align: right;\n    }\n</style>\n<table border=\"1\" class=\"dataframe\">\n  <thead>\n    <tr style=\"text-align: right;\">\n      <th></th>\n      <th>movieId</th>\n      <th>tagId</th>\n    </tr>\n  </thead>\n  <tbody>\n    <tr>\n      <th>0</th>\n      <td>1</td>\n      <td>11</td>\n    </tr>\n    <tr>\n      <th>1</th>\n      <td>1</td>\n      <td>19</td>\n    </tr>\n    <tr>\n      <th>2</th>\n      <td>1</td>\n      <td>20</td>\n    </tr>\n    <tr>\n      <th>3</th>\n      <td>1</td>\n      <td>29</td>\n    </tr>\n    <tr>\n      <th>4</th>\n      <td>1</td>\n      <td>30</td>\n    </tr>\n    <tr>\n      <th>...</th>\n      <td>...</td>\n      <td>...</td>\n    </tr>\n    <tr>\n      <th>1697797</th>\n      <td>288167</td>\n      <td>1096</td>\n    </tr>\n    <tr>\n      <th>1697798</th>\n      <td>288167</td>\n      <td>1101</td>\n    </tr>\n    <tr>\n      <th>1697799</th>\n      <td>288167</td>\n      <td>1108</td>\n    </tr>\n    <tr>\n      <th>1697800</th>\n      <td>288167</td>\n      <td>1114</td>\n    </tr>\n    <tr>\n      <th>1697801</th>\n      <td>288167</td>\n      <td>1116</td>\n    </tr>\n  </tbody>\n</table>\n<p>1697802 rows × 2 columns</p>\n</div>"
     },
     "execution_count": 7,
     "metadata": {},
     "output_type": "execute_result"
    }
   ],
   "source": [
    "df_tags_to_movies = pd.merge(df_movie_tags, df_genome_tags, on='tagId', how='left')[['movieId', 'tagId']]\n",
    "df_tags_to_movies['tagId'] = df_tags_to_movies.tagId.astype(str)\n",
    "df_tags_to_movies"
   ]
  },
  {
   "cell_type": "code",
   "execution_count": 8,
   "metadata": {
    "ExecuteTime": {
     "end_time": "2024-09-01T16:09:20.673005Z",
     "start_time": "2024-09-01T16:09:20.662929Z"
    }
   },
   "outputs": [],
   "source": [
    "def _concatenate_tags_of_movie(tags):\n",
    "    tags_as_str = ' '.join(set(tags))\n",
    "    return tags_as_str"
   ]
  },
  {
   "cell_type": "code",
   "execution_count": 9,
   "metadata": {
    "ExecuteTime": {
     "end_time": "2024-09-01T16:09:20.910303Z",
     "start_time": "2024-09-01T16:09:20.664901Z"
    }
   },
   "outputs": [],
   "source": [
    "df_tags_per_movie = df_tags_to_movies.groupby('movieId')['tagId'].agg(_concatenate_tags_of_movie)\n",
    "df_tags_per_movie.name = 'movie_tags'\n",
    "df_tags_per_movie = df_tags_per_movie.reset_index()"
   ]
  },
  {
   "cell_type": "code",
   "execution_count": 10,
   "metadata": {
    "ExecuteTime": {
     "end_time": "2024-09-01T16:09:20.922767Z",
     "start_time": "2024-09-01T16:09:20.911724Z"
    }
   },
   "outputs": [
    {
     "data": {
      "text/plain": "   movieId                                         movie_tags\n0        1  138 1051 1034 353 388 382 1007 215 747 942 45 ...",
      "text/html": "<div>\n<style scoped>\n    .dataframe tbody tr th:only-of-type {\n        vertical-align: middle;\n    }\n\n    .dataframe tbody tr th {\n        vertical-align: top;\n    }\n\n    .dataframe thead th {\n        text-align: right;\n    }\n</style>\n<table border=\"1\" class=\"dataframe\">\n  <thead>\n    <tr style=\"text-align: right;\">\n      <th></th>\n      <th>movieId</th>\n      <th>movie_tags</th>\n    </tr>\n  </thead>\n  <tbody>\n    <tr>\n      <th>0</th>\n      <td>1</td>\n      <td>138 1051 1034 353 388 382 1007 215 747 942 45 ...</td>\n    </tr>\n  </tbody>\n</table>\n</div>"
     },
     "execution_count": 10,
     "metadata": {},
     "output_type": "execute_result"
    }
   ],
   "source": [
    "df_tags_per_movie[df_tags_per_movie['movieId'] == 1]"
   ]
  },
  {
   "cell_type": "code",
   "execution_count": 11,
   "metadata": {
    "ExecuteTime": {
     "end_time": "2024-09-01T16:09:20.923304Z",
     "start_time": "2024-09-01T16:09:20.914014Z"
    }
   },
   "outputs": [
    {
     "data": {
      "text/plain": "          userId  movieId  rating   timestamp\n0              1        1     4.0  1225734739\n1              1      110     4.0  1225865086\n2              1      158     4.0  1225733503\n3              1      260     4.5  1225735204\n4              1      356     5.0  1225735119\n...          ...      ...     ...         ...\n33832157  330975     8340     2.0  1091583256\n33832158  330975     8493     2.5  1091585709\n33832159  330975     8622     4.0  1091581777\n33832160  330975     8665     3.0  1091581765\n33832161  330975     8783     2.5  1091581799\n\n[33832162 rows x 4 columns]",
      "text/html": "<div>\n<style scoped>\n    .dataframe tbody tr th:only-of-type {\n        vertical-align: middle;\n    }\n\n    .dataframe tbody tr th {\n        vertical-align: top;\n    }\n\n    .dataframe thead th {\n        text-align: right;\n    }\n</style>\n<table border=\"1\" class=\"dataframe\">\n  <thead>\n    <tr style=\"text-align: right;\">\n      <th></th>\n      <th>userId</th>\n      <th>movieId</th>\n      <th>rating</th>\n      <th>timestamp</th>\n    </tr>\n  </thead>\n  <tbody>\n    <tr>\n      <th>0</th>\n      <td>1</td>\n      <td>1</td>\n      <td>4.0</td>\n      <td>1225734739</td>\n    </tr>\n    <tr>\n      <th>1</th>\n      <td>1</td>\n      <td>110</td>\n      <td>4.0</td>\n      <td>1225865086</td>\n    </tr>\n    <tr>\n      <th>2</th>\n      <td>1</td>\n      <td>158</td>\n      <td>4.0</td>\n      <td>1225733503</td>\n    </tr>\n    <tr>\n      <th>3</th>\n      <td>1</td>\n      <td>260</td>\n      <td>4.5</td>\n      <td>1225735204</td>\n    </tr>\n    <tr>\n      <th>4</th>\n      <td>1</td>\n      <td>356</td>\n      <td>5.0</td>\n      <td>1225735119</td>\n    </tr>\n    <tr>\n      <th>...</th>\n      <td>...</td>\n      <td>...</td>\n      <td>...</td>\n      <td>...</td>\n    </tr>\n    <tr>\n      <th>33832157</th>\n      <td>330975</td>\n      <td>8340</td>\n      <td>2.0</td>\n      <td>1091583256</td>\n    </tr>\n    <tr>\n      <th>33832158</th>\n      <td>330975</td>\n      <td>8493</td>\n      <td>2.5</td>\n      <td>1091585709</td>\n    </tr>\n    <tr>\n      <th>33832159</th>\n      <td>330975</td>\n      <td>8622</td>\n      <td>4.0</td>\n      <td>1091581777</td>\n    </tr>\n    <tr>\n      <th>33832160</th>\n      <td>330975</td>\n      <td>8665</td>\n      <td>3.0</td>\n      <td>1091581765</td>\n    </tr>\n    <tr>\n      <th>33832161</th>\n      <td>330975</td>\n      <td>8783</td>\n      <td>2.5</td>\n      <td>1091581799</td>\n    </tr>\n  </tbody>\n</table>\n<p>33832162 rows × 4 columns</p>\n</div>"
     },
     "execution_count": 11,
     "metadata": {},
     "output_type": "execute_result"
    }
   ],
   "source": [
    "df_ratings"
   ]
  },
  {
   "cell_type": "code",
   "execution_count": 12,
   "metadata": {
    "ExecuteTime": {
     "end_time": "2024-09-01T16:09:21.888840Z",
     "start_time": "2024-09-01T16:09:20.917722Z"
    }
   },
   "outputs": [
    {
     "data": {
      "text/plain": "             mean  median   size\nmovieId                         \n1        3.893508     4.0  76813\n2        3.278179     3.0  30209\n3        3.171271     3.0  15820\n4        2.868395     3.0   3028\n5        3.076957     3.0  15801\n...           ...     ...    ...\n288967   3.500000     3.5      1\n288971   0.500000     0.5      1\n288975   4.000000     4.0      1\n288977   3.000000     3.0      1\n288983   3.000000     3.0      1\n\n[83239 rows x 3 columns]",
      "text/html": "<div>\n<style scoped>\n    .dataframe tbody tr th:only-of-type {\n        vertical-align: middle;\n    }\n\n    .dataframe tbody tr th {\n        vertical-align: top;\n    }\n\n    .dataframe thead th {\n        text-align: right;\n    }\n</style>\n<table border=\"1\" class=\"dataframe\">\n  <thead>\n    <tr style=\"text-align: right;\">\n      <th></th>\n      <th>mean</th>\n      <th>median</th>\n      <th>size</th>\n    </tr>\n    <tr>\n      <th>movieId</th>\n      <th></th>\n      <th></th>\n      <th></th>\n    </tr>\n  </thead>\n  <tbody>\n    <tr>\n      <th>1</th>\n      <td>3.893508</td>\n      <td>4.0</td>\n      <td>76813</td>\n    </tr>\n    <tr>\n      <th>2</th>\n      <td>3.278179</td>\n      <td>3.0</td>\n      <td>30209</td>\n    </tr>\n    <tr>\n      <th>3</th>\n      <td>3.171271</td>\n      <td>3.0</td>\n      <td>15820</td>\n    </tr>\n    <tr>\n      <th>4</th>\n      <td>2.868395</td>\n      <td>3.0</td>\n      <td>3028</td>\n    </tr>\n    <tr>\n      <th>5</th>\n      <td>3.076957</td>\n      <td>3.0</td>\n      <td>15801</td>\n    </tr>\n    <tr>\n      <th>...</th>\n      <td>...</td>\n      <td>...</td>\n      <td>...</td>\n    </tr>\n    <tr>\n      <th>288967</th>\n      <td>3.500000</td>\n      <td>3.5</td>\n      <td>1</td>\n    </tr>\n    <tr>\n      <th>288971</th>\n      <td>0.500000</td>\n      <td>0.5</td>\n      <td>1</td>\n    </tr>\n    <tr>\n      <th>288975</th>\n      <td>4.000000</td>\n      <td>4.0</td>\n      <td>1</td>\n    </tr>\n    <tr>\n      <th>288977</th>\n      <td>3.000000</td>\n      <td>3.0</td>\n      <td>1</td>\n    </tr>\n    <tr>\n      <th>288983</th>\n      <td>3.000000</td>\n      <td>3.0</td>\n      <td>1</td>\n    </tr>\n  </tbody>\n</table>\n<p>83239 rows × 3 columns</p>\n</div>"
     },
     "execution_count": 12,
     "metadata": {},
     "output_type": "execute_result"
    }
   ],
   "source": [
    "df_avg_ratings  = df_ratings.groupby('movieId')['rating'].agg(['mean', 'median', 'size'])\n",
    "df_avg_ratings "
   ]
  },
  {
   "cell_type": "code",
   "execution_count": 13,
   "metadata": {
    "ExecuteTime": {
     "end_time": "2024-09-01T16:09:22.755357Z",
     "start_time": "2024-09-01T16:09:21.887549Z"
    }
   },
   "outputs": [],
   "source": [
    "df_avg_ratings  = df_ratings.groupby('movieId')['rating'].agg(['mean', 'median', 'size'])\n",
    "df_avg_ratings.columns = ['rating_mean', 'rating_median', 'num_ratingsdf_tags_per_movie']\n",
    "df_avg_ratings = df_avg_ratings.reset_index()"
   ]
  },
  {
   "cell_type": "code",
   "execution_count": 14,
   "metadata": {
    "ExecuteTime": {
     "end_time": "2024-09-01T16:09:22.771893Z",
     "start_time": "2024-09-01T16:09:22.758055Z"
    }
   },
   "outputs": [],
   "source": [
    "df_movies_with_ratings = pd.merge(df_movies, df_avg_ratings, how='left', on='movieId')"
   ]
  },
  {
   "cell_type": "code",
   "execution_count": 15,
   "metadata": {
    "ExecuteTime": {
     "end_time": "2024-09-01T16:09:22.780846Z",
     "start_time": "2024-09-01T16:09:22.769944Z"
    }
   },
   "outputs": [],
   "source": [
    "df_data = pd.merge(df_movies_with_ratings, df_tags_per_movie, how='left', on='movieId')"
   ]
  },
  {
   "cell_type": "code",
   "execution_count": 16,
   "metadata": {
    "scrolled": false,
    "ExecuteTime": {
     "end_time": "2024-09-01T16:09:22.790495Z",
     "start_time": "2024-09-01T16:09:22.782167Z"
    }
   },
   "outputs": [
    {
     "data": {
      "text/plain": "       movieId                                         title  \\\n0            1                              Toy Story (1995)   \n1            2                                Jumanji (1995)   \n2            3                       Grumpier Old Men (1995)   \n3            4                      Waiting to Exhale (1995)   \n4            5            Father of the Bride Part II (1995)   \n...        ...                                           ...   \n16371   286901                              The Flash (2023)   \n16372   286905  Indiana Jones and the Dial of Destiny (2023)   \n16373   287377                                 Fast X (2023)   \n16374   287633                          Asteroid City (2023)   \n16375   288167                           Extraction 2 (2023)   \n\n                                            genres  rating_mean  \\\n0      Adventure|Animation|Children|Comedy|Fantasy     3.893508   \n1                       Adventure|Children|Fantasy     3.278179   \n2                                   Comedy|Romance     3.171271   \n3                             Comedy|Drama|Romance     2.868395   \n4                                           Comedy     3.076957   \n...                                            ...          ...   \n16371                      Action|Adventure|Sci-Fi     3.038043   \n16372                             Action|Adventure     3.276119   \n16373                                 Action|Crime     2.815217   \n16374                  Comedy|Drama|Romance|Sci-Fi     3.620690   \n16375                              Action|Thriller     3.376190   \n\n       rating_median  num_ratingsdf_tags_per_movie  \\\n0                4.0                       76813.0   \n1                3.0                       30209.0   \n2                3.0                       15820.0   \n3                3.0                        3028.0   \n4                3.0                       15801.0   \n...              ...                           ...   \n16371            3.0                          92.0   \n16372            3.5                         134.0   \n16373            3.0                          92.0   \n16374            3.5                         145.0   \n16375            3.5                         105.0   \n\n                                              movie_tags  \n0      138 1051 1034 353 388 382 1007 215 747 942 45 ...  \n1      98 388 382 304 844 761 971 378 646 776 266 497...  \n2      920 465 919 1102 1057 387 388 445 867 926 230 ...  \n3      1062 201 900 387 388 445 867 614 913 374 1070 ...  \n4      138 355 900 1102 455 387 388 445 867 926 602 2...  \n...                                                  ...  \n16371  1051 353 919 388 913 1027 304 844 864 971 1071...  \n16372  353 919 388 382 913 942 844 761 524 774 832 55...  \n16373  919 382 913 732 844 258 498 829 160 971 609 37...  \n16374  138 311 844 258 829 971 337 378 646 266 889 91...  \n16375  1051 1034 164 353 382 70 913 1007 844 258 498 ...  \n\n[16376 rows x 7 columns]",
      "text/html": "<div>\n<style scoped>\n    .dataframe tbody tr th:only-of-type {\n        vertical-align: middle;\n    }\n\n    .dataframe tbody tr th {\n        vertical-align: top;\n    }\n\n    .dataframe thead th {\n        text-align: right;\n    }\n</style>\n<table border=\"1\" class=\"dataframe\">\n  <thead>\n    <tr style=\"text-align: right;\">\n      <th></th>\n      <th>movieId</th>\n      <th>title</th>\n      <th>genres</th>\n      <th>rating_mean</th>\n      <th>rating_median</th>\n      <th>num_ratingsdf_tags_per_movie</th>\n      <th>movie_tags</th>\n    </tr>\n  </thead>\n  <tbody>\n    <tr>\n      <th>0</th>\n      <td>1</td>\n      <td>Toy Story (1995)</td>\n      <td>Adventure|Animation|Children|Comedy|Fantasy</td>\n      <td>3.893508</td>\n      <td>4.0</td>\n      <td>76813.0</td>\n      <td>138 1051 1034 353 388 382 1007 215 747 942 45 ...</td>\n    </tr>\n    <tr>\n      <th>1</th>\n      <td>2</td>\n      <td>Jumanji (1995)</td>\n      <td>Adventure|Children|Fantasy</td>\n      <td>3.278179</td>\n      <td>3.0</td>\n      <td>30209.0</td>\n      <td>98 388 382 304 844 761 971 378 646 776 266 497...</td>\n    </tr>\n    <tr>\n      <th>2</th>\n      <td>3</td>\n      <td>Grumpier Old Men (1995)</td>\n      <td>Comedy|Romance</td>\n      <td>3.171271</td>\n      <td>3.0</td>\n      <td>15820.0</td>\n      <td>920 465 919 1102 1057 387 388 445 867 926 230 ...</td>\n    </tr>\n    <tr>\n      <th>3</th>\n      <td>4</td>\n      <td>Waiting to Exhale (1995)</td>\n      <td>Comedy|Drama|Romance</td>\n      <td>2.868395</td>\n      <td>3.0</td>\n      <td>3028.0</td>\n      <td>1062 201 900 387 388 445 867 614 913 374 1070 ...</td>\n    </tr>\n    <tr>\n      <th>4</th>\n      <td>5</td>\n      <td>Father of the Bride Part II (1995)</td>\n      <td>Comedy</td>\n      <td>3.076957</td>\n      <td>3.0</td>\n      <td>15801.0</td>\n      <td>138 355 900 1102 455 387 388 445 867 926 602 2...</td>\n    </tr>\n    <tr>\n      <th>...</th>\n      <td>...</td>\n      <td>...</td>\n      <td>...</td>\n      <td>...</td>\n      <td>...</td>\n      <td>...</td>\n      <td>...</td>\n    </tr>\n    <tr>\n      <th>16371</th>\n      <td>286901</td>\n      <td>The Flash (2023)</td>\n      <td>Action|Adventure|Sci-Fi</td>\n      <td>3.038043</td>\n      <td>3.0</td>\n      <td>92.0</td>\n      <td>1051 353 919 388 913 1027 304 844 864 971 1071...</td>\n    </tr>\n    <tr>\n      <th>16372</th>\n      <td>286905</td>\n      <td>Indiana Jones and the Dial of Destiny (2023)</td>\n      <td>Action|Adventure</td>\n      <td>3.276119</td>\n      <td>3.5</td>\n      <td>134.0</td>\n      <td>353 919 388 382 913 942 844 761 524 774 832 55...</td>\n    </tr>\n    <tr>\n      <th>16373</th>\n      <td>287377</td>\n      <td>Fast X (2023)</td>\n      <td>Action|Crime</td>\n      <td>2.815217</td>\n      <td>3.0</td>\n      <td>92.0</td>\n      <td>919 382 913 732 844 258 498 829 160 971 609 37...</td>\n    </tr>\n    <tr>\n      <th>16374</th>\n      <td>287633</td>\n      <td>Asteroid City (2023)</td>\n      <td>Comedy|Drama|Romance|Sci-Fi</td>\n      <td>3.620690</td>\n      <td>3.5</td>\n      <td>145.0</td>\n      <td>138 311 844 258 829 971 337 378 646 266 889 91...</td>\n    </tr>\n    <tr>\n      <th>16375</th>\n      <td>288167</td>\n      <td>Extraction 2 (2023)</td>\n      <td>Action|Thriller</td>\n      <td>3.376190</td>\n      <td>3.5</td>\n      <td>105.0</td>\n      <td>1051 1034 164 353 382 70 913 1007 844 258 498 ...</td>\n    </tr>\n  </tbody>\n</table>\n<p>16376 rows × 7 columns</p>\n</div>"
     },
     "execution_count": 16,
     "metadata": {},
     "output_type": "execute_result"
    }
   ],
   "source": [
    "df_data_with_tags = df_data[~df_data.movie_tags.isnull()].reset_index(drop=True)\n",
    "df_data_with_tags"
   ]
  },
  {
   "cell_type": "markdown",
   "metadata": {},
   "source": [
    "### TF-IDF vectors"
   ]
  },
  {
   "cell_type": "code",
   "execution_count": 17,
   "metadata": {
    "ExecuteTime": {
     "end_time": "2024-09-01T16:09:22.790581Z",
     "start_time": "2024-09-01T16:09:22.787889Z"
    }
   },
   "outputs": [],
   "source": [
    "tf_idf = TfidfVectorizer()"
   ]
  },
  {
   "cell_type": "code",
   "execution_count": 18,
   "metadata": {
    "ExecuteTime": {
     "end_time": "2024-09-01T16:09:22.792232Z",
     "start_time": "2024-09-01T16:09:22.789404Z"
    }
   },
   "outputs": [
    {
     "data": {
      "text/plain": "797"
     },
     "execution_count": 18,
     "metadata": {},
     "output_type": "execute_result"
    }
   ],
   "source": [
    "len(df_data_with_tags.movie_tags[0])"
   ]
  },
  {
   "cell_type": "code",
   "execution_count": 19,
   "metadata": {
    "ExecuteTime": {
     "end_time": "2024-09-01T16:09:22.793280Z",
     "start_time": "2024-09-01T16:09:22.791956Z"
    }
   },
   "outputs": [
    {
     "data": {
      "text/plain": "0        138 1051 1034 353 388 382 1007 215 747 942 45 ...\n1        98 388 382 304 844 761 971 378 646 776 266 497...\n2        920 465 919 1102 1057 387 388 445 867 926 230 ...\n3        1062 201 900 387 388 445 867 614 913 374 1070 ...\n4        138 355 900 1102 455 387 388 445 867 926 602 2...\n                               ...                        \n16371    1051 353 919 388 913 1027 304 844 864 971 1071...\n16372    353 919 388 382 913 942 844 761 524 774 832 55...\n16373    919 382 913 732 844 258 498 829 160 971 609 37...\n16374    138 311 844 258 829 971 337 378 646 266 889 91...\n16375    1051 1034 164 353 382 70 913 1007 844 258 498 ...\nName: movie_tags, Length: 16376, dtype: object"
     },
     "execution_count": 19,
     "metadata": {},
     "output_type": "execute_result"
    }
   ],
   "source": [
    "df_data_with_tags.movie_tags"
   ]
  },
  {
   "cell_type": "code",
   "execution_count": 20,
   "metadata": {
    "ExecuteTime": {
     "end_time": "2024-09-01T16:09:23.553435Z",
     "start_time": "2024-09-01T16:09:22.824750Z"
    }
   },
   "outputs": [],
   "source": [
    "df_movies_tf_idf_described = tf_idf.fit_transform(df_data_with_tags.movie_tags)"
   ]
  },
  {
   "cell_type": "code",
   "execution_count": 21,
   "metadata": {
    "ExecuteTime": {
     "end_time": "2024-09-01T16:09:23.555774Z",
     "start_time": "2024-09-01T16:09:23.237304Z"
    }
   },
   "outputs": [
    {
     "data": {
      "text/plain": "<16376x1119 sparse matrix of type '<class 'numpy.float64'>'\n\twith 1690520 stored elements in Compressed Sparse Row format>"
     },
     "execution_count": 21,
     "metadata": {},
     "output_type": "execute_result"
    }
   ],
   "source": [
    "df_movies_tf_idf_described"
   ]
  },
  {
   "cell_type": "code",
   "execution_count": 22,
   "metadata": {
    "ExecuteTime": {
     "end_time": "2024-09-01T16:09:38.137361Z",
     "start_time": "2024-09-01T16:09:23.240185Z"
    }
   },
   "outputs": [],
   "source": [
    "m2m = cosine_similarity(df_movies_tf_idf_described)"
   ]
  },
  {
   "cell_type": "code",
   "execution_count": 23,
   "metadata": {
    "ExecuteTime": {
     "end_time": "2024-09-01T16:09:38.138425Z",
     "start_time": "2024-09-01T16:09:38.136749Z"
    }
   },
   "outputs": [
    {
     "data": {
      "text/plain": "array([1.        , 0.37962821, 0.14451215, ..., 0.25534355, 0.2249172 ,\n       0.3087429 ])"
     },
     "execution_count": 23,
     "metadata": {},
     "output_type": "execute_result"
    }
   ],
   "source": [
    "m2m[0]"
   ]
  },
  {
   "cell_type": "code",
   "execution_count": 24,
   "metadata": {
    "ExecuteTime": {
     "end_time": "2024-09-01T16:09:52.878532Z",
     "start_time": "2024-09-01T16:09:38.138084Z"
    }
   },
   "outputs": [],
   "source": [
    "df_tfidf_m2m = pd.DataFrame(cosine_similarity(df_movies_tf_idf_described))"
   ]
  },
  {
   "cell_type": "code",
   "execution_count": 25,
   "metadata": {
    "ExecuteTime": {
     "end_time": "2024-09-01T16:09:52.922662Z",
     "start_time": "2024-09-01T16:09:52.880511Z"
    }
   },
   "outputs": [
    {
     "data": {
      "text/plain": "          0         1         2         3         4         5         6      \\\n0      1.000000  0.379628  0.144512  0.137713  0.178240  0.298222  0.245527   \n1      0.379628  1.000000  0.137079  0.159790  0.170910  0.100493  0.206269   \n2      0.144512  0.137079  1.000000  0.180735  0.467717  0.062162  0.291692   \n3      0.137713  0.159790  0.180735  1.000000  0.231167  0.063929  0.327313   \n4      0.178240  0.170910  0.467717  0.231167  1.000000  0.055294  0.275303   \n...         ...       ...       ...       ...       ...       ...       ...   \n16371  0.285858  0.329786  0.311616  0.143986  0.221167  0.144519  0.164069   \n16372  0.363925  0.404351  0.206411  0.176181  0.230767  0.215755  0.252928   \n16373  0.255344  0.308838  0.164879  0.099562  0.114495  0.221061  0.158150   \n16374  0.224917  0.197086  0.121409  0.133688  0.102969  0.225534  0.198766   \n16375  0.308743  0.273383  0.138584  0.098377  0.147752  0.241740  0.186032   \n\n          7         8         9      ...     16366     16367     16368  \\\n0      0.178135  0.096275  0.225245  ...  0.431068  0.256292  0.303731   \n1      0.245843  0.134397  0.204641  ...  0.399514  0.131929  0.252955   \n2      0.125420  0.085931  0.140051  ...  0.205660  0.120554  0.199574   \n3      0.237519  0.047743  0.062415  ...  0.168045  0.129887  0.153314   \n4      0.120743  0.117387  0.103979  ...  0.230024  0.120001  0.189535   \n...         ...       ...       ...  ...       ...       ...       ...   \n16371  0.138332  0.140364  0.231748  ...  0.402947  0.160706  0.395326   \n16372  0.164444  0.202562  0.334906  ...  0.562953  0.236918  0.419097   \n16373  0.088949  0.204815  0.308057  ...  0.434861  0.276426  0.392325   \n16374  0.183798  0.052413  0.133732  ...  0.320372  0.376673  0.239804   \n16375  0.110014  0.251186  0.348484  ...  0.437996  0.238538  0.451009   \n\n          16369     16370     16371     16372     16373     16374     16375  \n0      0.145661  0.494795  0.285858  0.363925  0.255344  0.224917  0.308743  \n1      0.118443  0.298011  0.329786  0.404351  0.308838  0.197086  0.273383  \n2      0.096373  0.153900  0.311616  0.206411  0.164879  0.121409  0.138584  \n3      0.074440  0.170369  0.143986  0.176181  0.099562  0.133688  0.098377  \n4      0.123149  0.220936  0.221167  0.230767  0.114495  0.102969  0.147752  \n...         ...       ...       ...       ...       ...       ...       ...  \n16371  0.136327  0.315797  1.000000  0.427665  0.364402  0.170626  0.331611  \n16372  0.214603  0.407445  0.427665  1.000000  0.388149  0.189176  0.490294  \n16373  0.144863  0.348712  0.364402  0.388149  1.000000  0.214254  0.398785  \n16374  0.295528  0.272746  0.170626  0.189176  0.214254  1.000000  0.165940  \n16375  0.176380  0.374819  0.331611  0.490294  0.398785  0.165940  1.000000  \n\n[16376 rows x 16376 columns]",
      "text/html": "<div>\n<style scoped>\n    .dataframe tbody tr th:only-of-type {\n        vertical-align: middle;\n    }\n\n    .dataframe tbody tr th {\n        vertical-align: top;\n    }\n\n    .dataframe thead th {\n        text-align: right;\n    }\n</style>\n<table border=\"1\" class=\"dataframe\">\n  <thead>\n    <tr style=\"text-align: right;\">\n      <th></th>\n      <th>0</th>\n      <th>1</th>\n      <th>2</th>\n      <th>3</th>\n      <th>4</th>\n      <th>5</th>\n      <th>6</th>\n      <th>7</th>\n      <th>8</th>\n      <th>9</th>\n      <th>...</th>\n      <th>16366</th>\n      <th>16367</th>\n      <th>16368</th>\n      <th>16369</th>\n      <th>16370</th>\n      <th>16371</th>\n      <th>16372</th>\n      <th>16373</th>\n      <th>16374</th>\n      <th>16375</th>\n    </tr>\n  </thead>\n  <tbody>\n    <tr>\n      <th>0</th>\n      <td>1.000000</td>\n      <td>0.379628</td>\n      <td>0.144512</td>\n      <td>0.137713</td>\n      <td>0.178240</td>\n      <td>0.298222</td>\n      <td>0.245527</td>\n      <td>0.178135</td>\n      <td>0.096275</td>\n      <td>0.225245</td>\n      <td>...</td>\n      <td>0.431068</td>\n      <td>0.256292</td>\n      <td>0.303731</td>\n      <td>0.145661</td>\n      <td>0.494795</td>\n      <td>0.285858</td>\n      <td>0.363925</td>\n      <td>0.255344</td>\n      <td>0.224917</td>\n      <td>0.308743</td>\n    </tr>\n    <tr>\n      <th>1</th>\n      <td>0.379628</td>\n      <td>1.000000</td>\n      <td>0.137079</td>\n      <td>0.159790</td>\n      <td>0.170910</td>\n      <td>0.100493</td>\n      <td>0.206269</td>\n      <td>0.245843</td>\n      <td>0.134397</td>\n      <td>0.204641</td>\n      <td>...</td>\n      <td>0.399514</td>\n      <td>0.131929</td>\n      <td>0.252955</td>\n      <td>0.118443</td>\n      <td>0.298011</td>\n      <td>0.329786</td>\n      <td>0.404351</td>\n      <td>0.308838</td>\n      <td>0.197086</td>\n      <td>0.273383</td>\n    </tr>\n    <tr>\n      <th>2</th>\n      <td>0.144512</td>\n      <td>0.137079</td>\n      <td>1.000000</td>\n      <td>0.180735</td>\n      <td>0.467717</td>\n      <td>0.062162</td>\n      <td>0.291692</td>\n      <td>0.125420</td>\n      <td>0.085931</td>\n      <td>0.140051</td>\n      <td>...</td>\n      <td>0.205660</td>\n      <td>0.120554</td>\n      <td>0.199574</td>\n      <td>0.096373</td>\n      <td>0.153900</td>\n      <td>0.311616</td>\n      <td>0.206411</td>\n      <td>0.164879</td>\n      <td>0.121409</td>\n      <td>0.138584</td>\n    </tr>\n    <tr>\n      <th>3</th>\n      <td>0.137713</td>\n      <td>0.159790</td>\n      <td>0.180735</td>\n      <td>1.000000</td>\n      <td>0.231167</td>\n      <td>0.063929</td>\n      <td>0.327313</td>\n      <td>0.237519</td>\n      <td>0.047743</td>\n      <td>0.062415</td>\n      <td>...</td>\n      <td>0.168045</td>\n      <td>0.129887</td>\n      <td>0.153314</td>\n      <td>0.074440</td>\n      <td>0.170369</td>\n      <td>0.143986</td>\n      <td>0.176181</td>\n      <td>0.099562</td>\n      <td>0.133688</td>\n      <td>0.098377</td>\n    </tr>\n    <tr>\n      <th>4</th>\n      <td>0.178240</td>\n      <td>0.170910</td>\n      <td>0.467717</td>\n      <td>0.231167</td>\n      <td>1.000000</td>\n      <td>0.055294</td>\n      <td>0.275303</td>\n      <td>0.120743</td>\n      <td>0.117387</td>\n      <td>0.103979</td>\n      <td>...</td>\n      <td>0.230024</td>\n      <td>0.120001</td>\n      <td>0.189535</td>\n      <td>0.123149</td>\n      <td>0.220936</td>\n      <td>0.221167</td>\n      <td>0.230767</td>\n      <td>0.114495</td>\n      <td>0.102969</td>\n      <td>0.147752</td>\n    </tr>\n    <tr>\n      <th>...</th>\n      <td>...</td>\n      <td>...</td>\n      <td>...</td>\n      <td>...</td>\n      <td>...</td>\n      <td>...</td>\n      <td>...</td>\n      <td>...</td>\n      <td>...</td>\n      <td>...</td>\n      <td>...</td>\n      <td>...</td>\n      <td>...</td>\n      <td>...</td>\n      <td>...</td>\n      <td>...</td>\n      <td>...</td>\n      <td>...</td>\n      <td>...</td>\n      <td>...</td>\n      <td>...</td>\n    </tr>\n    <tr>\n      <th>16371</th>\n      <td>0.285858</td>\n      <td>0.329786</td>\n      <td>0.311616</td>\n      <td>0.143986</td>\n      <td>0.221167</td>\n      <td>0.144519</td>\n      <td>0.164069</td>\n      <td>0.138332</td>\n      <td>0.140364</td>\n      <td>0.231748</td>\n      <td>...</td>\n      <td>0.402947</td>\n      <td>0.160706</td>\n      <td>0.395326</td>\n      <td>0.136327</td>\n      <td>0.315797</td>\n      <td>1.000000</td>\n      <td>0.427665</td>\n      <td>0.364402</td>\n      <td>0.170626</td>\n      <td>0.331611</td>\n    </tr>\n    <tr>\n      <th>16372</th>\n      <td>0.363925</td>\n      <td>0.404351</td>\n      <td>0.206411</td>\n      <td>0.176181</td>\n      <td>0.230767</td>\n      <td>0.215755</td>\n      <td>0.252928</td>\n      <td>0.164444</td>\n      <td>0.202562</td>\n      <td>0.334906</td>\n      <td>...</td>\n      <td>0.562953</td>\n      <td>0.236918</td>\n      <td>0.419097</td>\n      <td>0.214603</td>\n      <td>0.407445</td>\n      <td>0.427665</td>\n      <td>1.000000</td>\n      <td>0.388149</td>\n      <td>0.189176</td>\n      <td>0.490294</td>\n    </tr>\n    <tr>\n      <th>16373</th>\n      <td>0.255344</td>\n      <td>0.308838</td>\n      <td>0.164879</td>\n      <td>0.099562</td>\n      <td>0.114495</td>\n      <td>0.221061</td>\n      <td>0.158150</td>\n      <td>0.088949</td>\n      <td>0.204815</td>\n      <td>0.308057</td>\n      <td>...</td>\n      <td>0.434861</td>\n      <td>0.276426</td>\n      <td>0.392325</td>\n      <td>0.144863</td>\n      <td>0.348712</td>\n      <td>0.364402</td>\n      <td>0.388149</td>\n      <td>1.000000</td>\n      <td>0.214254</td>\n      <td>0.398785</td>\n    </tr>\n    <tr>\n      <th>16374</th>\n      <td>0.224917</td>\n      <td>0.197086</td>\n      <td>0.121409</td>\n      <td>0.133688</td>\n      <td>0.102969</td>\n      <td>0.225534</td>\n      <td>0.198766</td>\n      <td>0.183798</td>\n      <td>0.052413</td>\n      <td>0.133732</td>\n      <td>...</td>\n      <td>0.320372</td>\n      <td>0.376673</td>\n      <td>0.239804</td>\n      <td>0.295528</td>\n      <td>0.272746</td>\n      <td>0.170626</td>\n      <td>0.189176</td>\n      <td>0.214254</td>\n      <td>1.000000</td>\n      <td>0.165940</td>\n    </tr>\n    <tr>\n      <th>16375</th>\n      <td>0.308743</td>\n      <td>0.273383</td>\n      <td>0.138584</td>\n      <td>0.098377</td>\n      <td>0.147752</td>\n      <td>0.241740</td>\n      <td>0.186032</td>\n      <td>0.110014</td>\n      <td>0.251186</td>\n      <td>0.348484</td>\n      <td>...</td>\n      <td>0.437996</td>\n      <td>0.238538</td>\n      <td>0.451009</td>\n      <td>0.176380</td>\n      <td>0.374819</td>\n      <td>0.331611</td>\n      <td>0.490294</td>\n      <td>0.398785</td>\n      <td>0.165940</td>\n      <td>1.000000</td>\n    </tr>\n  </tbody>\n</table>\n<p>16376 rows × 16376 columns</p>\n</div>"
     },
     "execution_count": 25,
     "metadata": {},
     "output_type": "execute_result"
    }
   ],
   "source": [
    "df_tfidf_m2m"
   ]
  },
  {
   "cell_type": "code",
   "execution_count": 26,
   "metadata": {
    "ExecuteTime": {
     "end_time": "2024-09-01T16:09:52.927196Z",
     "start_time": "2024-09-01T16:09:52.922826Z"
    }
   },
   "outputs": [],
   "source": [
    "index_to_movie_id = df_data_with_tags['movieId']\n"
   ]
  },
  {
   "cell_type": "code",
   "execution_count": 27,
   "metadata": {
    "ExecuteTime": {
     "end_time": "2024-09-01T16:09:52.942029Z",
     "start_time": "2024-09-01T16:09:52.940686Z"
    }
   },
   "outputs": [],
   "source": [
    "df_tfidf_m2m.columns = [str(index_to_movie_id[int(col)]) for col in df_tfidf_m2m.columns]"
   ]
  },
  {
   "cell_type": "code",
   "execution_count": 28,
   "metadata": {
    "ExecuteTime": {
     "end_time": "2024-09-01T16:09:53.012910Z",
     "start_time": "2024-09-01T16:09:52.954281Z"
    }
   },
   "outputs": [],
   "source": [
    "df_tfidf_m2m.index = [index_to_movie_id[idx] for idx in df_tfidf_m2m.index]"
   ]
  },
  {
   "cell_type": "code",
   "execution_count": 29,
   "metadata": {
    "ExecuteTime": {
     "end_time": "2024-09-01T16:09:53.014447Z",
     "start_time": "2024-09-01T16:09:52.974106Z"
    }
   },
   "outputs": [
    {
     "data": {
      "text/plain": "               1         2         3         4         5         6         7  \\\n1       1.000000  0.379628  0.144512  0.137713  0.178240  0.298222  0.245527   \n2       0.379628  1.000000  0.137079  0.159790  0.170910  0.100493  0.206269   \n3       0.144512  0.137079  1.000000  0.180735  0.467717  0.062162  0.291692   \n4       0.137713  0.159790  0.180735  1.000000  0.231167  0.063929  0.327313   \n5       0.178240  0.170910  0.467717  0.231167  1.000000  0.055294  0.275303   \n...          ...       ...       ...       ...       ...       ...       ...   \n286901  0.285858  0.329786  0.311616  0.143986  0.221167  0.144519  0.164069   \n286905  0.363925  0.404351  0.206411  0.176181  0.230767  0.215755  0.252928   \n287377  0.255344  0.308838  0.164879  0.099562  0.114495  0.221061  0.158150   \n287633  0.224917  0.197086  0.121409  0.133688  0.102969  0.225534  0.198766   \n288167  0.308743  0.273383  0.138584  0.098377  0.147752  0.241740  0.186032   \n\n               8         9        10  ...    286131    286355    286357  \\\n1       0.178135  0.096275  0.225245  ...  0.431068  0.256292  0.303731   \n2       0.245843  0.134397  0.204641  ...  0.399514  0.131929  0.252955   \n3       0.125420  0.085931  0.140051  ...  0.205660  0.120554  0.199574   \n4       0.237519  0.047743  0.062415  ...  0.168045  0.129887  0.153314   \n5       0.120743  0.117387  0.103979  ...  0.230024  0.120001  0.189535   \n...          ...       ...       ...  ...       ...       ...       ...   \n286901  0.138332  0.140364  0.231748  ...  0.402947  0.160706  0.395326   \n286905  0.164444  0.202562  0.334906  ...  0.562953  0.236918  0.419097   \n287377  0.088949  0.204815  0.308057  ...  0.434861  0.276426  0.392325   \n287633  0.183798  0.052413  0.133732  ...  0.320372  0.376673  0.239804   \n288167  0.110014  0.251186  0.348484  ...  0.437996  0.238538  0.451009   \n\n          286777    286897    286901    286905    287377    287633    288167  \n1       0.145661  0.494795  0.285858  0.363925  0.255344  0.224917  0.308743  \n2       0.118443  0.298011  0.329786  0.404351  0.308838  0.197086  0.273383  \n3       0.096373  0.153900  0.311616  0.206411  0.164879  0.121409  0.138584  \n4       0.074440  0.170369  0.143986  0.176181  0.099562  0.133688  0.098377  \n5       0.123149  0.220936  0.221167  0.230767  0.114495  0.102969  0.147752  \n...          ...       ...       ...       ...       ...       ...       ...  \n286901  0.136327  0.315797  1.000000  0.427665  0.364402  0.170626  0.331611  \n286905  0.214603  0.407445  0.427665  1.000000  0.388149  0.189176  0.490294  \n287377  0.144863  0.348712  0.364402  0.388149  1.000000  0.214254  0.398785  \n287633  0.295528  0.272746  0.170626  0.189176  0.214254  1.000000  0.165940  \n288167  0.176380  0.374819  0.331611  0.490294  0.398785  0.165940  1.000000  \n\n[16376 rows x 16376 columns]",
      "text/html": "<div>\n<style scoped>\n    .dataframe tbody tr th:only-of-type {\n        vertical-align: middle;\n    }\n\n    .dataframe tbody tr th {\n        vertical-align: top;\n    }\n\n    .dataframe thead th {\n        text-align: right;\n    }\n</style>\n<table border=\"1\" class=\"dataframe\">\n  <thead>\n    <tr style=\"text-align: right;\">\n      <th></th>\n      <th>1</th>\n      <th>2</th>\n      <th>3</th>\n      <th>4</th>\n      <th>5</th>\n      <th>6</th>\n      <th>7</th>\n      <th>8</th>\n      <th>9</th>\n      <th>10</th>\n      <th>...</th>\n      <th>286131</th>\n      <th>286355</th>\n      <th>286357</th>\n      <th>286777</th>\n      <th>286897</th>\n      <th>286901</th>\n      <th>286905</th>\n      <th>287377</th>\n      <th>287633</th>\n      <th>288167</th>\n    </tr>\n  </thead>\n  <tbody>\n    <tr>\n      <th>1</th>\n      <td>1.000000</td>\n      <td>0.379628</td>\n      <td>0.144512</td>\n      <td>0.137713</td>\n      <td>0.178240</td>\n      <td>0.298222</td>\n      <td>0.245527</td>\n      <td>0.178135</td>\n      <td>0.096275</td>\n      <td>0.225245</td>\n      <td>...</td>\n      <td>0.431068</td>\n      <td>0.256292</td>\n      <td>0.303731</td>\n      <td>0.145661</td>\n      <td>0.494795</td>\n      <td>0.285858</td>\n      <td>0.363925</td>\n      <td>0.255344</td>\n      <td>0.224917</td>\n      <td>0.308743</td>\n    </tr>\n    <tr>\n      <th>2</th>\n      <td>0.379628</td>\n      <td>1.000000</td>\n      <td>0.137079</td>\n      <td>0.159790</td>\n      <td>0.170910</td>\n      <td>0.100493</td>\n      <td>0.206269</td>\n      <td>0.245843</td>\n      <td>0.134397</td>\n      <td>0.204641</td>\n      <td>...</td>\n      <td>0.399514</td>\n      <td>0.131929</td>\n      <td>0.252955</td>\n      <td>0.118443</td>\n      <td>0.298011</td>\n      <td>0.329786</td>\n      <td>0.404351</td>\n      <td>0.308838</td>\n      <td>0.197086</td>\n      <td>0.273383</td>\n    </tr>\n    <tr>\n      <th>3</th>\n      <td>0.144512</td>\n      <td>0.137079</td>\n      <td>1.000000</td>\n      <td>0.180735</td>\n      <td>0.467717</td>\n      <td>0.062162</td>\n      <td>0.291692</td>\n      <td>0.125420</td>\n      <td>0.085931</td>\n      <td>0.140051</td>\n      <td>...</td>\n      <td>0.205660</td>\n      <td>0.120554</td>\n      <td>0.199574</td>\n      <td>0.096373</td>\n      <td>0.153900</td>\n      <td>0.311616</td>\n      <td>0.206411</td>\n      <td>0.164879</td>\n      <td>0.121409</td>\n      <td>0.138584</td>\n    </tr>\n    <tr>\n      <th>4</th>\n      <td>0.137713</td>\n      <td>0.159790</td>\n      <td>0.180735</td>\n      <td>1.000000</td>\n      <td>0.231167</td>\n      <td>0.063929</td>\n      <td>0.327313</td>\n      <td>0.237519</td>\n      <td>0.047743</td>\n      <td>0.062415</td>\n      <td>...</td>\n      <td>0.168045</td>\n      <td>0.129887</td>\n      <td>0.153314</td>\n      <td>0.074440</td>\n      <td>0.170369</td>\n      <td>0.143986</td>\n      <td>0.176181</td>\n      <td>0.099562</td>\n      <td>0.133688</td>\n      <td>0.098377</td>\n    </tr>\n    <tr>\n      <th>5</th>\n      <td>0.178240</td>\n      <td>0.170910</td>\n      <td>0.467717</td>\n      <td>0.231167</td>\n      <td>1.000000</td>\n      <td>0.055294</td>\n      <td>0.275303</td>\n      <td>0.120743</td>\n      <td>0.117387</td>\n      <td>0.103979</td>\n      <td>...</td>\n      <td>0.230024</td>\n      <td>0.120001</td>\n      <td>0.189535</td>\n      <td>0.123149</td>\n      <td>0.220936</td>\n      <td>0.221167</td>\n      <td>0.230767</td>\n      <td>0.114495</td>\n      <td>0.102969</td>\n      <td>0.147752</td>\n    </tr>\n    <tr>\n      <th>...</th>\n      <td>...</td>\n      <td>...</td>\n      <td>...</td>\n      <td>...</td>\n      <td>...</td>\n      <td>...</td>\n      <td>...</td>\n      <td>...</td>\n      <td>...</td>\n      <td>...</td>\n      <td>...</td>\n      <td>...</td>\n      <td>...</td>\n      <td>...</td>\n      <td>...</td>\n      <td>...</td>\n      <td>...</td>\n      <td>...</td>\n      <td>...</td>\n      <td>...</td>\n      <td>...</td>\n    </tr>\n    <tr>\n      <th>286901</th>\n      <td>0.285858</td>\n      <td>0.329786</td>\n      <td>0.311616</td>\n      <td>0.143986</td>\n      <td>0.221167</td>\n      <td>0.144519</td>\n      <td>0.164069</td>\n      <td>0.138332</td>\n      <td>0.140364</td>\n      <td>0.231748</td>\n      <td>...</td>\n      <td>0.402947</td>\n      <td>0.160706</td>\n      <td>0.395326</td>\n      <td>0.136327</td>\n      <td>0.315797</td>\n      <td>1.000000</td>\n      <td>0.427665</td>\n      <td>0.364402</td>\n      <td>0.170626</td>\n      <td>0.331611</td>\n    </tr>\n    <tr>\n      <th>286905</th>\n      <td>0.363925</td>\n      <td>0.404351</td>\n      <td>0.206411</td>\n      <td>0.176181</td>\n      <td>0.230767</td>\n      <td>0.215755</td>\n      <td>0.252928</td>\n      <td>0.164444</td>\n      <td>0.202562</td>\n      <td>0.334906</td>\n      <td>...</td>\n      <td>0.562953</td>\n      <td>0.236918</td>\n      <td>0.419097</td>\n      <td>0.214603</td>\n      <td>0.407445</td>\n      <td>0.427665</td>\n      <td>1.000000</td>\n      <td>0.388149</td>\n      <td>0.189176</td>\n      <td>0.490294</td>\n    </tr>\n    <tr>\n      <th>287377</th>\n      <td>0.255344</td>\n      <td>0.308838</td>\n      <td>0.164879</td>\n      <td>0.099562</td>\n      <td>0.114495</td>\n      <td>0.221061</td>\n      <td>0.158150</td>\n      <td>0.088949</td>\n      <td>0.204815</td>\n      <td>0.308057</td>\n      <td>...</td>\n      <td>0.434861</td>\n      <td>0.276426</td>\n      <td>0.392325</td>\n      <td>0.144863</td>\n      <td>0.348712</td>\n      <td>0.364402</td>\n      <td>0.388149</td>\n      <td>1.000000</td>\n      <td>0.214254</td>\n      <td>0.398785</td>\n    </tr>\n    <tr>\n      <th>287633</th>\n      <td>0.224917</td>\n      <td>0.197086</td>\n      <td>0.121409</td>\n      <td>0.133688</td>\n      <td>0.102969</td>\n      <td>0.225534</td>\n      <td>0.198766</td>\n      <td>0.183798</td>\n      <td>0.052413</td>\n      <td>0.133732</td>\n      <td>...</td>\n      <td>0.320372</td>\n      <td>0.376673</td>\n      <td>0.239804</td>\n      <td>0.295528</td>\n      <td>0.272746</td>\n      <td>0.170626</td>\n      <td>0.189176</td>\n      <td>0.214254</td>\n      <td>1.000000</td>\n      <td>0.165940</td>\n    </tr>\n    <tr>\n      <th>288167</th>\n      <td>0.308743</td>\n      <td>0.273383</td>\n      <td>0.138584</td>\n      <td>0.098377</td>\n      <td>0.147752</td>\n      <td>0.241740</td>\n      <td>0.186032</td>\n      <td>0.110014</td>\n      <td>0.251186</td>\n      <td>0.348484</td>\n      <td>...</td>\n      <td>0.437996</td>\n      <td>0.238538</td>\n      <td>0.451009</td>\n      <td>0.176380</td>\n      <td>0.374819</td>\n      <td>0.331611</td>\n      <td>0.490294</td>\n      <td>0.398785</td>\n      <td>0.165940</td>\n      <td>1.000000</td>\n    </tr>\n  </tbody>\n</table>\n<p>16376 rows × 16376 columns</p>\n</div>"
     },
     "execution_count": 29,
     "metadata": {},
     "output_type": "execute_result"
    }
   ],
   "source": [
    "df_tfidf_m2m"
   ]
  },
  {
   "cell_type": "markdown",
   "metadata": {},
   "source": [
    "### Most similar movies to Toy Story"
   ]
  },
  {
   "cell_type": "code",
   "execution_count": 30,
   "metadata": {
    "ExecuteTime": {
     "end_time": "2024-09-01T16:09:53.014703Z",
     "start_time": "2024-09-01T16:09:52.983072Z"
    }
   },
   "outputs": [
    {
     "data": {
      "text/plain": "1        1.000000\n3114     0.728797\n78499    0.728585\n4886     0.673833\n8961     0.652712\n2355     0.642130\n6377     0.637588\n68954    0.636667\n50872    0.614647\n97913    0.606383\nName: 1, dtype: float64"
     },
     "execution_count": 30,
     "metadata": {},
     "output_type": "execute_result"
    }
   ],
   "source": [
    "df_tfidf_m2m.iloc[0].sort_values(ascending=False)[:10]"
   ]
  },
  {
   "cell_type": "code",
   "execution_count": 31,
   "metadata": {
    "ExecuteTime": {
     "end_time": "2024-09-01T16:09:53.014884Z",
     "start_time": "2024-09-01T16:09:52.987622Z"
    }
   },
   "outputs": [
    {
     "data": {
      "text/plain": "      movieId               title  \\\n2820     3114  Toy Story 2 (1999)   \n\n                                           genres  rating_mean  rating_median  \\\n2820  Adventure|Animation|Children|Comedy|Fantasy     3.809132            4.0   \n\n      num_ratingsdf_tags_per_movie  \\\n2820                       34495.0   \n\n                                             movie_tags  \n2820  138 1051 1046 388 382 1007 215 304 844 761 971...  ",
      "text/html": "<div>\n<style scoped>\n    .dataframe tbody tr th:only-of-type {\n        vertical-align: middle;\n    }\n\n    .dataframe tbody tr th {\n        vertical-align: top;\n    }\n\n    .dataframe thead th {\n        text-align: right;\n    }\n</style>\n<table border=\"1\" class=\"dataframe\">\n  <thead>\n    <tr style=\"text-align: right;\">\n      <th></th>\n      <th>movieId</th>\n      <th>title</th>\n      <th>genres</th>\n      <th>rating_mean</th>\n      <th>rating_median</th>\n      <th>num_ratingsdf_tags_per_movie</th>\n      <th>movie_tags</th>\n    </tr>\n  </thead>\n  <tbody>\n    <tr>\n      <th>2820</th>\n      <td>3114</td>\n      <td>Toy Story 2 (1999)</td>\n      <td>Adventure|Animation|Children|Comedy|Fantasy</td>\n      <td>3.809132</td>\n      <td>4.0</td>\n      <td>34495.0</td>\n      <td>138 1051 1046 388 382 1007 215 304 844 761 971...</td>\n    </tr>\n  </tbody>\n</table>\n</div>"
     },
     "execution_count": 31,
     "metadata": {},
     "output_type": "execute_result"
    }
   ],
   "source": [
    "df_data_with_tags[df_data_with_tags.movieId == 3114]"
   ]
  },
  {
   "cell_type": "code",
   "execution_count": 32,
   "metadata": {
    "scrolled": true,
    "ExecuteTime": {
     "end_time": "2024-09-01T16:09:53.015163Z",
     "start_time": "2024-09-01T16:09:52.994545Z"
    }
   },
   "outputs": [
    {
     "data": {
      "text/plain": "      movieId                  title  \\\n4429     4886  Monsters, Inc. (2001)   \n\n                                           genres  rating_mean  rating_median  \\\n4429  Adventure|Animation|Children|Comedy|Fantasy     3.840528            4.0   \n\n      num_ratingsdf_tags_per_movie  \\\n4429                       48441.0   \n\n                                             movie_tags  \n4429  620 977 138 1051 919 388 382 461 1007 215 844 ...  ",
      "text/html": "<div>\n<style scoped>\n    .dataframe tbody tr th:only-of-type {\n        vertical-align: middle;\n    }\n\n    .dataframe tbody tr th {\n        vertical-align: top;\n    }\n\n    .dataframe thead th {\n        text-align: right;\n    }\n</style>\n<table border=\"1\" class=\"dataframe\">\n  <thead>\n    <tr style=\"text-align: right;\">\n      <th></th>\n      <th>movieId</th>\n      <th>title</th>\n      <th>genres</th>\n      <th>rating_mean</th>\n      <th>rating_median</th>\n      <th>num_ratingsdf_tags_per_movie</th>\n      <th>movie_tags</th>\n    </tr>\n  </thead>\n  <tbody>\n    <tr>\n      <th>4429</th>\n      <td>4886</td>\n      <td>Monsters, Inc. (2001)</td>\n      <td>Adventure|Animation|Children|Comedy|Fantasy</td>\n      <td>3.840528</td>\n      <td>4.0</td>\n      <td>48441.0</td>\n      <td>620 977 138 1051 919 388 382 461 1007 215 844 ...</td>\n    </tr>\n  </tbody>\n</table>\n</div>"
     },
     "execution_count": 32,
     "metadata": {},
     "output_type": "execute_result"
    }
   ],
   "source": [
    "df_data_with_tags[df_data_with_tags.movieId == 4886]"
   ]
  }
 ],
 "metadata": {
  "kernelspec": {
   "display_name": "Python 3 (ipykernel)",
   "language": "python",
   "name": "python3"
  },
  "language_info": {
   "codemirror_mode": {
    "name": "ipython",
    "version": 3
   },
   "file_extension": ".py",
   "mimetype": "text/x-python",
   "name": "python",
   "nbconvert_exporter": "python",
   "pygments_lexer": "ipython3",
   "version": "3.11.4"
  }
 },
 "nbformat": 4,
 "nbformat_minor": 2
}
