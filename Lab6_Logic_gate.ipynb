{
 "cells": [
  {
   "cell_type": "markdown",
   "metadata": {},
   "source": [
    "# How to build Logic Gate Neural Network"
   ]
  },
  {
   "cell_type": "markdown",
   "metadata": {},
   "source": [
    "## And Gate"
   ]
  },
  {
   "cell_type": "code",
   "execution_count": 1,
   "metadata": {
    "ExecuteTime": {
     "end_time": "2024-09-01T15:54:29.443687Z",
     "start_time": "2024-09-01T15:54:29.361346Z"
    }
   },
   "outputs": [
    {
     "name": "stdout",
     "output_type": "stream",
     "text": [
      "[0. 0. 0. 1.]\n"
     ]
    }
   ],
   "source": [
    "import numpy as np \n",
    "\n",
    "def sigmoid(x):\n",
    "    return 1.0/(1+ np.exp(-x))\n",
    "\n",
    "class AND:\n",
    "    def __init__(self, x):\n",
    "        self.input      = x\n",
    "        self.weights    = np.array([-30, 20, 20])      \n",
    "        \n",
    "    def feedforward(self):\n",
    "        self.output = sigmoid(np.dot(self.input, self.weights))\n",
    "        \n",
    "        \n",
    "X = np.array([[1,0,0],\n",
    "              [1,0,1],\n",
    "              [1,1,0],\n",
    "              [1,1,1]])\n",
    "nn = AND(X)\n",
    "nn.feedforward()\n",
    "Y = nn.output\n",
    "print(Y.round(3))"
   ]
  },
  {
   "cell_type": "markdown",
   "metadata": {},
   "source": [
    "## Or Gate"
   ]
  },
  {
   "cell_type": "code",
   "execution_count": 2,
   "metadata": {
    "ExecuteTime": {
     "end_time": "2024-09-01T15:54:29.456107Z",
     "start_time": "2024-09-01T15:54:29.451032Z"
    }
   },
   "outputs": [
    {
     "name": "stdout",
     "output_type": "stream",
     "text": [
      "[0. 1. 1. 1.]\n"
     ]
    }
   ],
   "source": [
    "import numpy as np \n",
    "\n",
    "def sigmoid(x):\n",
    "    return 1.0/(1+ np.exp(-x))\n",
    "\n",
    "class OR:\n",
    "    def __init__(self, x):\n",
    "        self.input      = x\n",
    "        self.weights    = np.array([-10, 20, 20])      \n",
    "        \n",
    "    def feedforward(self):\n",
    "        self.output = sigmoid(np.dot(self.input, self.weights))\n",
    "        \n",
    "        \n",
    "X = np.array([[1,0,0],\n",
    "              [1,0,1],\n",
    "              [1,1,0],\n",
    "              [1,1,1]])\n",
    "nn = OR(X)\n",
    "nn.feedforward()\n",
    "Y = nn.output\n",
    "print(Y.round(3))"
   ]
  },
  {
   "cell_type": "markdown",
   "metadata": {},
   "source": [
    "## NAND Gate"
   ]
  },
  {
   "cell_type": "code",
   "execution_count": 3,
   "metadata": {
    "ExecuteTime": {
     "end_time": "2024-09-01T15:54:29.497050Z",
     "start_time": "2024-09-01T15:54:29.458048Z"
    }
   },
   "outputs": [
    {
     "name": "stdout",
     "output_type": "stream",
     "text": [
      "[1. 1. 1. 0.]\n"
     ]
    }
   ],
   "source": [
    "import numpy as np \n",
    "\n",
    "def sigmoid(x):\n",
    "    return 1.0/(1+ np.exp(-x))\n",
    "\n",
    "class NAND:\n",
    "    def __init__(self, x):\n",
    "        self.input      = x\n",
    "        self.weights    = np.array([30, -20, -20])      \n",
    "        \n",
    "    def feedforward(self):\n",
    "        self.output = sigmoid(np.dot(self.input, self.weights))\n",
    "        \n",
    "        \n",
    "X = np.array([[1,0,0],\n",
    "              [1,0,1],\n",
    "              [1,1,0],\n",
    "              [1,1,1]])\n",
    "nn = NAND(X)\n",
    "nn.feedforward()\n",
    "Y = nn.output\n",
    "print(Y.round(3))"
   ]
  },
  {
   "cell_type": "markdown",
   "metadata": {},
   "source": [
    "## NOR Gate"
   ]
  },
  {
   "cell_type": "code",
   "execution_count": 4,
   "metadata": {
    "ExecuteTime": {
     "end_time": "2024-09-01T15:54:29.497714Z",
     "start_time": "2024-09-01T15:54:29.461377Z"
    }
   },
   "outputs": [
    {
     "name": "stdout",
     "output_type": "stream",
     "text": [
      "[1. 0. 0. 0.]\n"
     ]
    }
   ],
   "source": [
    "import numpy as np \n",
    "\n",
    "def sigmoid(x):\n",
    "    return 1.0/(1+ np.exp(-x))\n",
    "\n",
    "class NOR:\n",
    "    def __init__(self, x):\n",
    "        self.input      = x\n",
    "        self.weights    = np.array([10, -20, -20])      \n",
    "        \n",
    "    def feedforward(self):\n",
    "        self.output = sigmoid(np.dot(self.input, self.weights))\n",
    "        \n",
    "        \n",
    "X = np.array([[1,0,0],\n",
    "              [1,0,1],\n",
    "              [1,1,0],\n",
    "              [1,1,1]])\n",
    "nn = NOR(X)\n",
    "nn.feedforward()\n",
    "Y = nn.output\n",
    "print(Y.round(3))"
   ]
  },
  {
   "cell_type": "markdown",
   "metadata": {},
   "source": [
    "## XOR Gate"
   ]
  },
  {
   "cell_type": "code",
   "execution_count": 5,
   "metadata": {
    "ExecuteTime": {
     "end_time": "2024-09-01T15:54:29.497937Z",
     "start_time": "2024-09-01T15:54:29.481827Z"
    }
   },
   "outputs": [
    {
     "name": "stdout",
     "output_type": "stream",
     "text": [
      "[0. 1. 1. 0.]\n"
     ]
    }
   ],
   "source": [
    "import numpy as np \n",
    "\n",
    "def sigmoid(x):\n",
    "    return 1.0/(1+ np.exp(-x))\n",
    "\n",
    "class XOR:\n",
    "    def __init__(self, x):\n",
    "        self.input      = x\n",
    "        weights_NOR     = np.array([10, -20, -20]) \n",
    "        weights_AND     = np.array([-30, 20, 20])    \n",
    "        self.weights1   = np.array([weights_NOR, weights_AND]).T\n",
    "        self.weights2   = weights_NOR\n",
    "        \n",
    "    def feedforward(self):\n",
    "        self.layer1 = sigmoid(np.dot(self.input, self.weights1))\n",
    "        bias = np.ones(len(self.layer1))\n",
    "        self.layer1 = np.insert(self.layer1,0,values = bias, axis =1)\n",
    "        self.output = sigmoid(np.dot(self.layer1, self.weights2))\n",
    "        \n",
    "        \n",
    "X = np.array([[1,0,0],\n",
    "              [1,0,1],\n",
    "              [1,1,0],\n",
    "              [1,1,1]])\n",
    "nn = XOR(X)\n",
    "nn.feedforward()\n",
    "Y = nn.output\n",
    "print(Y.round(3))"
   ]
  }
 ],
 "metadata": {
  "kernelspec": {
   "display_name": "Python 3 (ipykernel)",
   "language": "python",
   "name": "python3"
  },
  "language_info": {
   "codemirror_mode": {
    "name": "ipython",
    "version": 3
   },
   "file_extension": ".py",
   "mimetype": "text/x-python",
   "name": "python",
   "nbconvert_exporter": "python",
   "pygments_lexer": "ipython3",
   "version": "3.11.4"
  }
 },
 "nbformat": 4,
 "nbformat_minor": 2
}
