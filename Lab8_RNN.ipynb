{
 "cells": [
  {
   "cell_type": "markdown",
   "source": [
    "A Gated Recurrent Unit (GRU) is a variant of the RNN architecture, and uses gating mechanisms to control and manage the flow of information between cells in the neural network. GRUs were introduced only in 2014 by Cho, et al.\n",
    "We’ll be implementing a GRU model in code. To further our GRU-LSTM comparison, we’ll also be using an LSTM model to complete the same task. We’ll evaluate the performance of both models on a few metrics."
   ],
   "metadata": {
    "collapsed": false
   },
   "id": "6d01801fff55b0d1"
  },
  {
   "cell_type": "code",
   "execution_count": 17,
   "id": "functional-width",
   "metadata": {
    "_cell_guid": "b1076dfc-b9ad-4769-8c92-a6c4dae69d19",
    "_uuid": "8f2839f25d086af736a60e9eeb907d3b93b6e0e5",
    "execution": {
     "iopub.execute_input": "2021-05-23T07:30:44.834791Z",
     "iopub.status.busy": "2021-05-23T07:30:44.833332Z",
     "iopub.status.idle": "2021-05-23T07:30:46.125537Z",
     "shell.execute_reply": "2021-05-23T07:30:46.124933Z",
     "shell.execute_reply.started": "2021-05-20T09:14:28.34792Z"
    },
    "papermill": {
     "duration": 1.309384,
     "end_time": "2021-05-23T07:30:46.125682",
     "exception": false,
     "start_time": "2021-05-23T07:30:44.816298",
     "status": "completed"
    },
    "tags": [],
    "ExecuteTime": {
     "end_time": "2024-09-01T16:30:15.029462Z",
     "start_time": "2024-09-01T16:30:14.982830Z"
    }
   },
   "outputs": [],
   "source": [
    "import torch\n",
    "import torch.nn as nn\n",
    "import torch.optim as optim\n",
    "from torch.utils.data import DataLoader\n",
    "from torch.utils.data import Dataset\n",
    "import matplotlib.pyplot as plt"
   ]
  },
  {
   "cell_type": "markdown",
   "id": "palestinian-excitement",
   "metadata": {
    "papermill": {
     "duration": 0.013638,
     "end_time": "2021-05-23T07:30:46.153152",
     "exception": false,
     "start_time": "2021-05-23T07:30:46.139514",
     "status": "completed"
    },
    "tags": []
   },
   "source": [
    "### defining hyperparameters"
   ]
  },
  {
   "cell_type": "code",
   "execution_count": 18,
   "id": "driving-spank",
   "metadata": {
    "execution": {
     "iopub.execute_input": "2021-05-23T07:30:46.184458Z",
     "iopub.status.busy": "2021-05-23T07:30:46.183731Z",
     "iopub.status.idle": "2021-05-23T07:30:46.186428Z",
     "shell.execute_reply": "2021-05-23T07:30:46.186044Z",
     "shell.execute_reply.started": "2021-05-20T09:14:29.985026Z"
    },
    "papermill": {
     "duration": 0.019792,
     "end_time": "2021-05-23T07:30:46.186530",
     "exception": false,
     "start_time": "2021-05-23T07:30:46.166738",
     "status": "completed"
    },
    "tags": [],
    "ExecuteTime": {
     "end_time": "2024-09-01T16:30:15.045551Z",
     "start_time": "2024-09-01T16:30:14.987905Z"
    }
   },
   "outputs": [],
   "source": [
    "input_size=28\n",
    "sequence_length =28\n",
    "num_layers=2\n",
    "hidden_size=128\n",
    "\n",
    "learning_rate = 0.001\n",
    "num_epochs = 5\n",
    "\n",
    "num_classes =10\n",
    "batch_size = 256"
   ]
  },
  {
   "cell_type": "markdown",
   "id": "stopped-tennis",
   "metadata": {
    "papermill": {
     "duration": 0.013395,
     "end_time": "2021-05-23T07:30:46.213209",
     "exception": false,
     "start_time": "2021-05-23T07:30:46.199814",
     "status": "completed"
    },
    "tags": []
   },
   "source": [
    "## lets design an rnn"
   ]
  },
  {
   "cell_type": "code",
   "execution_count": 19,
   "id": "falling-sauce",
   "metadata": {
    "execution": {
     "iopub.execute_input": "2021-05-23T07:30:46.246355Z",
     "iopub.status.busy": "2021-05-23T07:30:46.245710Z",
     "iopub.status.idle": "2021-05-23T07:30:46.248003Z",
     "shell.execute_reply": "2021-05-23T07:30:46.248387Z",
     "shell.execute_reply.started": "2021-05-20T09:14:29.995774Z"
    },
    "papermill": {
     "duration": 0.021916,
     "end_time": "2021-05-23T07:30:46.248506",
     "exception": false,
     "start_time": "2021-05-23T07:30:46.226590",
     "status": "completed"
    },
    "tags": [],
    "ExecuteTime": {
     "end_time": "2024-09-01T16:30:15.048979Z",
     "start_time": "2024-09-01T16:30:14.992689Z"
    }
   },
   "outputs": [],
   "source": [
    "class SimpleRNN(nn.Module):\n",
    "    def __init__(self, input_size=input_size, num_layers=num_layers, hidden_size=hidden_size, sequence_length=sequence_length, num_classes=num_classes):\n",
    "        super(SimpleRNN, self).__init__()\n",
    "        self.num_layers = num_layers\n",
    "        self.hidden_size= hidden_size\n",
    "        \n",
    "        self.rnn = nn.RNN(input_size, hidden_size, num_layers, batch_first=True)\n",
    "        self.fc1 = nn.Linear(hidden_size * sequence_length, num_classes)\n",
    "    \n",
    "    def forward(self, x):\n",
    "        h0 = torch.zeros(self.num_layers, x.size(0), self.hidden_size).to(device)\n",
    "        out, _ = self.rnn(x, h0)\n",
    "        out = out.reshape(out.shape[0], -1)\n",
    "        out = self.fc1(out)\n",
    "        return out\n",
    "    "
   ]
  },
  {
   "cell_type": "markdown",
   "id": "considered-cloud",
   "metadata": {
    "papermill": {
     "duration": 0.013222,
     "end_time": "2021-05-23T07:30:46.275544",
     "exception": false,
     "start_time": "2021-05-23T07:30:46.262322",
     "status": "completed"
    },
    "tags": []
   },
   "source": [
    "### A GRU"
   ]
  },
  {
   "cell_type": "code",
   "execution_count": 20,
   "id": "physical-worthy",
   "metadata": {
    "execution": {
     "iopub.execute_input": "2021-05-23T07:30:46.308928Z",
     "iopub.status.busy": "2021-05-23T07:30:46.308225Z",
     "iopub.status.idle": "2021-05-23T07:30:46.310813Z",
     "shell.execute_reply": "2021-05-23T07:30:46.310437Z",
     "shell.execute_reply.started": "2021-05-20T09:28:55.760902Z"
    },
    "papermill": {
     "duration": 0.021899,
     "end_time": "2021-05-23T07:30:46.310913",
     "exception": false,
     "start_time": "2021-05-23T07:30:46.289014",
     "status": "completed"
    },
    "tags": [],
    "ExecuteTime": {
     "end_time": "2024-09-01T16:30:15.049280Z",
     "start_time": "2024-09-01T16:30:14.997657Z"
    }
   },
   "outputs": [],
   "source": [
    "class SimpleGRU(nn.Module):\n",
    "    def __init__(self, input_size=input_size, hidden_size=hidden_size, num_layers=num_layers, num_classes=num_classes, sequence_length=sequence_length):\n",
    "        super(SimpleGRU, self).__init__()\n",
    "        self.hidden_size  = hidden_size\n",
    "        self.num_layers = num_layers\n",
    "        \n",
    "        self.gru = nn.GRU(input_size, hidden_size, num_layers, batch_first=True)\n",
    "        self.fc1 = nn.Linear(hidden_size * sequence_length, num_classes)\n",
    "    \n",
    "    def forward(self, x):\n",
    "        h0 = torch.zeros(self.num_layers, x.size(0), self.hidden_size).to(device)\n",
    "        out,_ = self.gru(x, h0) \n",
    "        out = out.reshape(out.shape[0], -1)\n",
    "        out = self.fc1(out)\n",
    "        return out\n",
    "        \n",
    "        "
   ]
  },
  {
   "cell_type": "markdown",
   "id": "chemical-shakespeare",
   "metadata": {
    "papermill": {
     "duration": 0.01318,
     "end_time": "2021-05-23T07:30:46.337715",
     "exception": false,
     "start_time": "2021-05-23T07:30:46.324535",
     "status": "completed"
    },
    "tags": []
   },
   "source": [
    "### A LSTM"
   ]
  },
  {
   "cell_type": "code",
   "execution_count": 21,
   "id": "occupational-preparation",
   "metadata": {
    "execution": {
     "iopub.execute_input": "2021-05-23T07:30:46.371458Z",
     "iopub.status.busy": "2021-05-23T07:30:46.370788Z",
     "iopub.status.idle": "2021-05-23T07:30:46.373661Z",
     "shell.execute_reply": "2021-05-23T07:30:46.373278Z",
     "shell.execute_reply.started": "2021-05-20T09:45:49.880556Z"
    },
    "papermill": {
     "duration": 0.022618,
     "end_time": "2021-05-23T07:30:46.373774",
     "exception": false,
     "start_time": "2021-05-23T07:30:46.351156",
     "status": "completed"
    },
    "tags": [],
    "ExecuteTime": {
     "end_time": "2024-09-01T16:30:15.049323Z",
     "start_time": "2024-09-01T16:30:15.001410Z"
    }
   },
   "outputs": [],
   "source": [
    "class SimpleLSTM(nn.Module):\n",
    "    def __init__(self, input_size=input_size, hidden_size=hidden_size, num_layers=num_layers, sequence_length=sequence_length, num_classes=num_classes):\n",
    "        super(SimpleLSTM, self).__init__()\n",
    "        \n",
    "        self.hidden_size = hidden_size\n",
    "        self.num_layers = num_layers\n",
    "        \n",
    "        self.lstm = nn.LSTM(input_size, hidden_size, num_layers, batch_first=True)\n",
    "        self.fc1 = nn.Linear(hidden_size * sequence_length, num_classes)\n",
    "        \n",
    "    def forward(self, x):\n",
    "        h0 = torch.zeros(self.num_layers, x.size(0), self.hidden_size).to(device=device)\n",
    "        c0 = torch.zeros(self.num_layers, x.size(0), self.hidden_size).to(device=device)\n",
    "        \n",
    "        out, _ = self.lstm(x,(h0, c0))\n",
    "        out = out.reshape(out.size(0), -1)\n",
    "        out = self.fc1(out)\n",
    "        return out"
   ]
  },
  {
   "cell_type": "code",
   "execution_count": 22,
   "id": "convenient-child",
   "metadata": {
    "execution": {
     "iopub.execute_input": "2021-05-23T07:30:46.460960Z",
     "iopub.status.busy": "2021-05-23T07:30:46.460374Z",
     "iopub.status.idle": "2021-05-23T07:30:46.463634Z",
     "shell.execute_reply": "2021-05-23T07:30:46.462919Z",
     "shell.execute_reply.started": "2021-05-20T09:45:53.255074Z"
    },
    "papermill": {
     "duration": 0.076458,
     "end_time": "2021-05-23T07:30:46.463750",
     "exception": false,
     "start_time": "2021-05-23T07:30:46.387292",
     "status": "completed"
    },
    "tags": [],
    "ExecuteTime": {
     "end_time": "2024-09-01T16:30:15.049358Z",
     "start_time": "2024-09-01T16:30:15.003991Z"
    }
   },
   "outputs": [],
   "source": [
    "device = torch.device('cuda' if torch.cuda.is_available() else 'cpu')"
   ]
  },
  {
   "cell_type": "code",
   "execution_count": 23,
   "id": "excess-advancement",
   "metadata": {
    "execution": {
     "iopub.execute_input": "2021-05-23T07:30:46.494687Z",
     "iopub.status.busy": "2021-05-23T07:30:46.494118Z",
     "iopub.status.idle": "2021-05-23T07:30:51.451422Z",
     "shell.execute_reply": "2021-05-23T07:30:51.450955Z",
     "shell.execute_reply.started": "2021-05-20T09:45:55.132587Z"
    },
    "papermill": {
     "duration": 4.973966,
     "end_time": "2021-05-23T07:30:51.451553",
     "exception": false,
     "start_time": "2021-05-23T07:30:46.477587",
     "status": "completed"
    },
    "tags": [],
    "ExecuteTime": {
     "end_time": "2024-09-01T16:30:15.049389Z",
     "start_time": "2024-09-01T16:30:15.006358Z"
    }
   },
   "outputs": [],
   "source": [
    "model = SimpleRNN().to(device=device)\n",
    "\n",
    "#model = SimpleGRU().to(device=device)\n",
    "\n",
    "#model = SimpleLSTM().to(device=device)"
   ]
  },
  {
   "cell_type": "code",
   "execution_count": 24,
   "id": "understanding-response",
   "metadata": {
    "execution": {
     "iopub.execute_input": "2021-05-23T07:30:51.484817Z",
     "iopub.status.busy": "2021-05-23T07:30:51.484162Z",
     "iopub.status.idle": "2021-05-23T07:30:51.515089Z",
     "shell.execute_reply": "2021-05-23T07:30:51.515570Z",
     "shell.execute_reply.started": "2021-05-20T09:45:57.324559Z"
    },
    "papermill": {
     "duration": 0.049484,
     "end_time": "2021-05-23T07:30:51.515696",
     "exception": false,
     "start_time": "2021-05-23T07:30:51.466212",
     "status": "completed"
    },
    "tags": [],
    "ExecuteTime": {
     "end_time": "2024-09-01T16:30:15.049511Z",
     "start_time": "2024-09-01T16:30:15.009722Z"
    }
   },
   "outputs": [
    {
     "data": {
      "text/plain": "torch.Size([256, 10])"
     },
     "execution_count": 24,
     "metadata": {},
     "output_type": "execute_result"
    }
   ],
   "source": [
    "x = torch.randn(256,28,28).to(device=device)\n",
    "y = model(x)\n",
    "y.shape"
   ]
  },
  {
   "cell_type": "code",
   "execution_count": 25,
   "id": "floating-carpet",
   "metadata": {
    "execution": {
     "iopub.execute_input": "2021-05-23T07:30:51.552606Z",
     "iopub.status.busy": "2021-05-23T07:30:51.551912Z",
     "iopub.status.idle": "2021-05-23T07:30:51.554612Z",
     "shell.execute_reply": "2021-05-23T07:30:51.554192Z",
     "shell.execute_reply.started": "2021-05-20T09:45:59.986325Z"
    },
    "papermill": {
     "duration": 0.023461,
     "end_time": "2021-05-23T07:30:51.554711",
     "exception": false,
     "start_time": "2021-05-23T07:30:51.531250",
     "status": "completed"
    },
    "tags": [],
    "ExecuteTime": {
     "end_time": "2024-09-01T16:30:15.049859Z",
     "start_time": "2024-09-01T16:30:15.030914Z"
    }
   },
   "outputs": [],
   "source": [
    "import pandas as pd\n",
    "import numpy as np\n",
    "\n",
    "class MnistDataset(Dataset):\n",
    "    def __init__(self, datapath):\n",
    "        super(MnistDataset).__init__()\n",
    "        df = pd.read_csv(datapath, dtype=float)\n",
    "        \n",
    "        self.x = torch.from_numpy(df.iloc[:, 1:].values)\n",
    "        self.x = self.x.reshape(self.x.size(0), 1, 28, 28).squeeze(1) # GRU and RNN expect N * 28 * 28\n",
    "        self.x = self.x.float()\n",
    "        \n",
    "        self.y = torch.from_numpy(df.iloc[:, 0].values)\n",
    "        self.y = self.y.long()\n",
    "        \n",
    "        self.n_samples = df.shape[0]\n",
    "    \n",
    "    def __getitem__(self, index):\n",
    "        return self.x[index], self.y[index]\n",
    "    \n",
    "    def __len__(self):\n",
    "        return self.n_samples\n",
    "        "
   ]
  },
  {
   "cell_type": "code",
   "execution_count": 26,
   "id": "square-criterion",
   "metadata": {
    "execution": {
     "iopub.execute_input": "2021-05-23T07:30:51.591500Z",
     "iopub.status.busy": "2021-05-23T07:30:51.590985Z",
     "iopub.status.idle": "2021-05-23T07:30:57.828542Z",
     "shell.execute_reply": "2021-05-23T07:30:57.828994Z",
     "shell.execute_reply.started": "2021-05-20T09:29:30.754269Z"
    },
    "papermill": {
     "duration": 6.260481,
     "end_time": "2021-05-23T07:30:57.829181",
     "exception": false,
     "start_time": "2021-05-23T07:30:51.568700",
     "status": "completed"
    },
    "tags": [],
    "ExecuteTime": {
     "end_time": "2024-09-01T16:30:16.536376Z",
     "start_time": "2024-09-01T16:30:15.034681Z"
    }
   },
   "outputs": [],
   "source": [
    "train_dataset = MnistDataset(\"mnist_train.csv\")\n",
    "test_dataset = MnistDataset(\"mnist_test.csv\")"
   ]
  },
  {
   "cell_type": "code",
   "execution_count": 27,
   "id": "promising-windows",
   "metadata": {
    "execution": {
     "iopub.execute_input": "2021-05-23T07:30:57.863866Z",
     "iopub.status.busy": "2021-05-23T07:30:57.863361Z",
     "iopub.status.idle": "2021-05-23T07:30:57.868971Z",
     "shell.execute_reply": "2021-05-23T07:30:57.868568Z",
     "shell.execute_reply.started": "2021-05-20T09:46:03.718297Z"
    },
    "papermill": {
     "duration": 0.025667,
     "end_time": "2021-05-23T07:30:57.869095",
     "exception": false,
     "start_time": "2021-05-23T07:30:57.843428",
     "status": "completed"
    },
    "tags": [],
    "ExecuteTime": {
     "end_time": "2024-09-01T16:30:16.569700Z",
     "start_time": "2024-09-01T16:30:16.536554Z"
    }
   },
   "outputs": [
    {
     "data": {
      "text/plain": "<Figure size 640x480 with 1 Axes>",
      "image/png": "[encoded data removed]"
     },
     "metadata": {},
     "output_type": "display_data"
    },
    {
     "name": "stdout",
     "output_type": "stream",
     "text": [
      "torch.Size([28, 28])\n",
      "tensor(1)\n"
     ]
    }
   ],
   "source": [
    "x, y = train_dataset[6]\n",
    "plt.imshow(x,cmap='gray')   #Display grayscale images\n",
    "plt.axis('off')\n",
    "plt.show()\n",
    "print(x.shape)\n",
    "print(y)"
   ]
  },
  {
   "cell_type": "code",
   "execution_count": 28,
   "id": "aging-majority",
   "metadata": {
    "execution": {
     "iopub.execute_input": "2021-05-23T07:30:57.901480Z",
     "iopub.status.busy": "2021-05-23T07:30:57.900940Z",
     "iopub.status.idle": "2021-05-23T07:30:57.904385Z",
     "shell.execute_reply": "2021-05-23T07:30:57.904744Z",
     "shell.execute_reply.started": "2021-05-20T09:46:26.182212Z"
    },
    "papermill": {
     "duration": 0.021763,
     "end_time": "2021-05-23T07:30:57.904865",
     "exception": false,
     "start_time": "2021-05-23T07:30:57.883102",
     "status": "completed"
    },
    "tags": [],
    "ExecuteTime": {
     "end_time": "2024-09-01T16:30:16.582568Z",
     "start_time": "2024-09-01T16:30:16.567143Z"
    }
   },
   "outputs": [],
   "source": [
    "train_dataloader = DataLoader(dataset=train_dataset, batch_size=batch_size, shuffle=True)\n",
    "test_dataloader = DataLoader(dataset=test_dataset, batch_size=batch_size, shuffle=True)"
   ]
  },
  {
   "cell_type": "code",
   "execution_count": 29,
   "id": "future-freeze",
   "metadata": {
    "execution": {
     "iopub.execute_input": "2021-05-23T07:30:57.937404Z",
     "iopub.status.busy": "2021-05-23T07:30:57.936195Z",
     "iopub.status.idle": "2021-05-23T07:30:57.938337Z",
     "shell.execute_reply": "2021-05-23T07:30:57.938772Z",
     "shell.execute_reply.started": "2021-05-20T09:46:27.987369Z"
    },
    "papermill": {
     "duration": 0.020153,
     "end_time": "2021-05-23T07:30:57.938884",
     "exception": false,
     "start_time": "2021-05-23T07:30:57.918731",
     "status": "completed"
    },
    "tags": [],
    "ExecuteTime": {
     "end_time": "2024-09-01T16:30:16.582698Z",
     "start_time": "2024-09-01T16:30:16.576101Z"
    }
   },
   "outputs": [],
   "source": [
    "loss_criterion  = nn.CrossEntropyLoss()\n",
    "optimizer = optim.Adam(model.parameters(), lr = learning_rate)"
   ]
  },
  {
   "cell_type": "code",
   "execution_count": 30,
   "id": "unlimited-estonia",
   "metadata": {
    "execution": {
     "iopub.execute_input": "2021-05-23T07:30:57.973500Z",
     "iopub.status.busy": "2021-05-23T07:30:57.972795Z",
     "iopub.status.idle": "2021-05-23T07:31:26.409373Z",
     "shell.execute_reply": "2021-05-23T07:31:26.409919Z",
     "shell.execute_reply.started": "2021-05-20T09:46:32.399122Z"
    },
    "papermill": {
     "duration": 28.456989,
     "end_time": "2021-05-23T07:31:26.410091",
     "exception": false,
     "start_time": "2021-05-23T07:30:57.953102",
     "status": "completed"
    },
    "tags": [],
    "ExecuteTime": {
     "end_time": "2024-09-01T16:30:50.439900Z",
     "start_time": "2024-09-01T16:30:16.579457Z"
    }
   },
   "outputs": [
    {
     "name": "stdout",
     "output_type": "stream",
     "text": [
      "At epoch: 0, loss: 0.05457757040858269\n",
      "At epoch: 1, loss: 0.07467039674520493\n",
      "At epoch: 2, loss: 0.0798235684633255\n",
      "At epoch: 3, loss: 0.04159282520413399\n",
      "At epoch: 4, loss: 0.0354028083384037\n"
     ]
    }
   ],
   "source": [
    "current_loss = 0\n",
    "for epoch in range(num_epochs):\n",
    "    for data, target in train_dataloader:\n",
    "        data = data.to(device=device)\n",
    "        target = target.to(device=device)\n",
    "        \n",
    "        score = model(data)\n",
    "        loss = loss_criterion(score, target)\n",
    "        current_loss = loss\n",
    "        \n",
    "        optimizer.zero_grad()\n",
    "        loss.backward()\n",
    "        \n",
    "        optimizer.step()\n",
    "    print(f\"At epoch: {epoch}, loss: {current_loss}\")"
   ]
  },
  {
   "cell_type": "code",
   "execution_count": 31,
   "id": "progressive-answer",
   "metadata": {
    "execution": {
     "iopub.execute_input": "2021-05-23T07:31:26.456882Z",
     "iopub.status.busy": "2021-05-23T07:31:26.455662Z",
     "iopub.status.idle": "2021-05-23T07:31:26.458335Z",
     "shell.execute_reply": "2021-05-23T07:31:26.457931Z",
     "shell.execute_reply.started": "2021-05-20T09:47:10.860272Z"
    },
    "papermill": {
     "duration": 0.028434,
     "end_time": "2021-05-23T07:31:26.458441",
     "exception": false,
     "start_time": "2021-05-23T07:31:26.430007",
     "status": "completed"
    },
    "tags": [],
    "ExecuteTime": {
     "end_time": "2024-09-01T16:30:50.440072Z",
     "start_time": "2024-09-01T16:30:50.438293Z"
    }
   },
   "outputs": [],
   "source": [
    "def check_accuracy(dlr, model):\n",
    "    \n",
    "    total_correct = 0\n",
    "    total_samples = 0\n",
    "    \n",
    "    model.eval()\n",
    "    \n",
    "    with torch.no_grad():\n",
    "        for x, y in dlr:\n",
    "            x = x.to(device=device)\n",
    "            y = y.to(device=device)\n",
    "            \n",
    "            score = model(x)\n",
    "            _,predictions = score.max(1)\n",
    "            \n",
    "            total_correct += (y==predictions).sum()\n",
    "            total_samples += predictions.size(0)\n",
    "            \n",
    "    model.train()\n",
    "    print(f\"total samples: {total_samples} total_correct: {total_correct} accuracy : {float(total_correct/total_samples)* 100}\")\n",
    "            "
   ]
  },
  {
   "cell_type": "code",
   "execution_count": 32,
   "id": "early-understanding",
   "metadata": {
    "execution": {
     "iopub.execute_input": "2021-05-23T07:31:26.492993Z",
     "iopub.status.busy": "2021-05-23T07:31:26.492326Z",
     "iopub.status.idle": "2021-05-23T07:31:29.638249Z",
     "shell.execute_reply": "2021-05-23T07:31:29.638835Z",
     "shell.execute_reply.started": "2021-05-20T09:47:10.879665Z"
    },
    "papermill": {
     "duration": 3.165161,
     "end_time": "2021-05-23T07:31:29.639026",
     "exception": false,
     "start_time": "2021-05-23T07:31:26.473865",
     "status": "completed"
    },
    "tags": [],
    "ExecuteTime": {
     "end_time": "2024-09-01T16:30:54.086540Z",
     "start_time": "2024-09-01T16:30:50.440929Z"
    }
   },
   "outputs": [
    {
     "name": "stdout",
     "output_type": "stream",
     "text": [
      "total samples: 60000 total_correct: 59072 accuracy : 98.45333099365234\n",
      "total samples: 10000 total_correct: 9762 accuracy : 97.61999845504761\n"
     ]
    }
   ],
   "source": [
    "check_accuracy(train_dataloader, model)\n",
    "check_accuracy(test_dataloader, model)"
   ]
  }
 ],
 "metadata": {
  "kernelspec": {
   "display_name": "Python 3",
   "language": "python",
   "name": "python3"
  },
  "language_info": {
   "codemirror_mode": {
    "name": "ipython",
    "version": 3
   },
   "file_extension": ".py",
   "mimetype": "text/x-python",
   "name": "python",
   "nbconvert_exporter": "python",
   "pygments_lexer": "ipython3",
   "version": "3.7.10"
  },
  "papermill": {
   "default_parameters": {},
   "duration": 52.659941,
   "end_time": "2021-05-23T07:31:30.902349",
   "environment_variables": {},
   "exception": null,
   "input_path": "__notebook__.ipynb",
   "output_path": "__notebook__.ipynb",
   "parameters": {},
   "start_time": "2021-05-23T07:30:38.242408",
   "version": "2.3.3"
  }
 },
 "nbformat": 4,
 "nbformat_minor": 5
}
